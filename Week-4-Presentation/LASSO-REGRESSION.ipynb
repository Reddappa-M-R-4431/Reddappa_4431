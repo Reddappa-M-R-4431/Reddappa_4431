{
 "cells": [
  {
   "cell_type": "code",
   "execution_count": 1,
   "id": "f9f01f92",
   "metadata": {},
   "outputs": [],
   "source": [
    "# evaluate an lasso regression model on the dataset\n",
    "import pandas as pd\n",
    "import numpy as np"
   ]
  },
  {
   "cell_type": "code",
   "execution_count": 2,
   "id": "cb7d9c6c",
   "metadata": {},
   "outputs": [],
   "source": [
    "# load the dataset\n",
    "url = 'https://raw.githubusercontent.com/jbrownlee/Datasets/master/housing.csv'\n",
    "dataframe = pd.read_csv(url, header=None)\n",
    "data = dataframe"
   ]
  },
  {
   "cell_type": "code",
   "execution_count": 3,
   "id": "385df776",
   "metadata": {},
   "outputs": [
    {
     "data": {
      "text/html": [
       "<div>\n",
       "<style scoped>\n",
       "    .dataframe tbody tr th:only-of-type {\n",
       "        vertical-align: middle;\n",
       "    }\n",
       "\n",
       "    .dataframe tbody tr th {\n",
       "        vertical-align: top;\n",
       "    }\n",
       "\n",
       "    .dataframe thead th {\n",
       "        text-align: right;\n",
       "    }\n",
       "</style>\n",
       "<table border=\"1\" class=\"dataframe\">\n",
       "  <thead>\n",
       "    <tr style=\"text-align: right;\">\n",
       "      <th></th>\n",
       "      <th>0</th>\n",
       "      <th>1</th>\n",
       "      <th>2</th>\n",
       "      <th>3</th>\n",
       "      <th>4</th>\n",
       "      <th>5</th>\n",
       "      <th>6</th>\n",
       "      <th>7</th>\n",
       "      <th>8</th>\n",
       "      <th>9</th>\n",
       "      <th>10</th>\n",
       "      <th>11</th>\n",
       "      <th>12</th>\n",
       "      <th>13</th>\n",
       "    </tr>\n",
       "  </thead>\n",
       "  <tbody>\n",
       "    <tr>\n",
       "      <th>0</th>\n",
       "      <td>0.00632</td>\n",
       "      <td>18.0</td>\n",
       "      <td>2.31</td>\n",
       "      <td>0</td>\n",
       "      <td>0.538</td>\n",
       "      <td>6.575</td>\n",
       "      <td>65.2</td>\n",
       "      <td>4.0900</td>\n",
       "      <td>1</td>\n",
       "      <td>296.0</td>\n",
       "      <td>15.3</td>\n",
       "      <td>396.90</td>\n",
       "      <td>4.98</td>\n",
       "      <td>24.0</td>\n",
       "    </tr>\n",
       "    <tr>\n",
       "      <th>1</th>\n",
       "      <td>0.02731</td>\n",
       "      <td>0.0</td>\n",
       "      <td>7.07</td>\n",
       "      <td>0</td>\n",
       "      <td>0.469</td>\n",
       "      <td>6.421</td>\n",
       "      <td>78.9</td>\n",
       "      <td>4.9671</td>\n",
       "      <td>2</td>\n",
       "      <td>242.0</td>\n",
       "      <td>17.8</td>\n",
       "      <td>396.90</td>\n",
       "      <td>9.14</td>\n",
       "      <td>21.6</td>\n",
       "    </tr>\n",
       "    <tr>\n",
       "      <th>2</th>\n",
       "      <td>0.02729</td>\n",
       "      <td>0.0</td>\n",
       "      <td>7.07</td>\n",
       "      <td>0</td>\n",
       "      <td>0.469</td>\n",
       "      <td>7.185</td>\n",
       "      <td>61.1</td>\n",
       "      <td>4.9671</td>\n",
       "      <td>2</td>\n",
       "      <td>242.0</td>\n",
       "      <td>17.8</td>\n",
       "      <td>392.83</td>\n",
       "      <td>4.03</td>\n",
       "      <td>34.7</td>\n",
       "    </tr>\n",
       "    <tr>\n",
       "      <th>3</th>\n",
       "      <td>0.03237</td>\n",
       "      <td>0.0</td>\n",
       "      <td>2.18</td>\n",
       "      <td>0</td>\n",
       "      <td>0.458</td>\n",
       "      <td>6.998</td>\n",
       "      <td>45.8</td>\n",
       "      <td>6.0622</td>\n",
       "      <td>3</td>\n",
       "      <td>222.0</td>\n",
       "      <td>18.7</td>\n",
       "      <td>394.63</td>\n",
       "      <td>2.94</td>\n",
       "      <td>33.4</td>\n",
       "    </tr>\n",
       "    <tr>\n",
       "      <th>4</th>\n",
       "      <td>0.06905</td>\n",
       "      <td>0.0</td>\n",
       "      <td>2.18</td>\n",
       "      <td>0</td>\n",
       "      <td>0.458</td>\n",
       "      <td>7.147</td>\n",
       "      <td>54.2</td>\n",
       "      <td>6.0622</td>\n",
       "      <td>3</td>\n",
       "      <td>222.0</td>\n",
       "      <td>18.7</td>\n",
       "      <td>396.90</td>\n",
       "      <td>5.33</td>\n",
       "      <td>36.2</td>\n",
       "    </tr>\n",
       "  </tbody>\n",
       "</table>\n",
       "</div>"
      ],
      "text/plain": [
       "        0     1     2   3      4      5     6       7   8      9     10  \\\n",
       "0  0.00632  18.0  2.31   0  0.538  6.575  65.2  4.0900   1  296.0  15.3   \n",
       "1  0.02731   0.0  7.07   0  0.469  6.421  78.9  4.9671   2  242.0  17.8   \n",
       "2  0.02729   0.0  7.07   0  0.469  7.185  61.1  4.9671   2  242.0  17.8   \n",
       "3  0.03237   0.0  2.18   0  0.458  6.998  45.8  6.0622   3  222.0  18.7   \n",
       "4  0.06905   0.0  2.18   0  0.458  7.147  54.2  6.0622   3  222.0  18.7   \n",
       "\n",
       "       11    12    13  \n",
       "0  396.90  4.98  24.0  \n",
       "1  396.90  9.14  21.6  \n",
       "2  392.83  4.03  34.7  \n",
       "3  394.63  2.94  33.4  \n",
       "4  396.90  5.33  36.2  "
      ]
     },
     "execution_count": 3,
     "metadata": {},
     "output_type": "execute_result"
    }
   ],
   "source": [
    "data.head()"
   ]
  },
  {
   "cell_type": "code",
   "execution_count": 4,
   "id": "2d4a64ed",
   "metadata": {},
   "outputs": [
    {
     "data": {
      "text/html": [
       "<div>\n",
       "<style scoped>\n",
       "    .dataframe tbody tr th:only-of-type {\n",
       "        vertical-align: middle;\n",
       "    }\n",
       "\n",
       "    .dataframe tbody tr th {\n",
       "        vertical-align: top;\n",
       "    }\n",
       "\n",
       "    .dataframe thead th {\n",
       "        text-align: right;\n",
       "    }\n",
       "</style>\n",
       "<table border=\"1\" class=\"dataframe\">\n",
       "  <thead>\n",
       "    <tr style=\"text-align: right;\">\n",
       "      <th></th>\n",
       "      <th>0</th>\n",
       "      <th>1</th>\n",
       "      <th>2</th>\n",
       "      <th>3</th>\n",
       "      <th>4</th>\n",
       "      <th>5</th>\n",
       "      <th>6</th>\n",
       "      <th>7</th>\n",
       "      <th>8</th>\n",
       "      <th>9</th>\n",
       "      <th>10</th>\n",
       "      <th>11</th>\n",
       "      <th>12</th>\n",
       "      <th>13</th>\n",
       "    </tr>\n",
       "  </thead>\n",
       "  <tbody>\n",
       "    <tr>\n",
       "      <th>501</th>\n",
       "      <td>0.06263</td>\n",
       "      <td>0.0</td>\n",
       "      <td>11.93</td>\n",
       "      <td>0</td>\n",
       "      <td>0.573</td>\n",
       "      <td>6.593</td>\n",
       "      <td>69.1</td>\n",
       "      <td>2.4786</td>\n",
       "      <td>1</td>\n",
       "      <td>273.0</td>\n",
       "      <td>21.0</td>\n",
       "      <td>391.99</td>\n",
       "      <td>9.67</td>\n",
       "      <td>22.4</td>\n",
       "    </tr>\n",
       "    <tr>\n",
       "      <th>502</th>\n",
       "      <td>0.04527</td>\n",
       "      <td>0.0</td>\n",
       "      <td>11.93</td>\n",
       "      <td>0</td>\n",
       "      <td>0.573</td>\n",
       "      <td>6.120</td>\n",
       "      <td>76.7</td>\n",
       "      <td>2.2875</td>\n",
       "      <td>1</td>\n",
       "      <td>273.0</td>\n",
       "      <td>21.0</td>\n",
       "      <td>396.90</td>\n",
       "      <td>9.08</td>\n",
       "      <td>20.6</td>\n",
       "    </tr>\n",
       "    <tr>\n",
       "      <th>503</th>\n",
       "      <td>0.06076</td>\n",
       "      <td>0.0</td>\n",
       "      <td>11.93</td>\n",
       "      <td>0</td>\n",
       "      <td>0.573</td>\n",
       "      <td>6.976</td>\n",
       "      <td>91.0</td>\n",
       "      <td>2.1675</td>\n",
       "      <td>1</td>\n",
       "      <td>273.0</td>\n",
       "      <td>21.0</td>\n",
       "      <td>396.90</td>\n",
       "      <td>5.64</td>\n",
       "      <td>23.9</td>\n",
       "    </tr>\n",
       "    <tr>\n",
       "      <th>504</th>\n",
       "      <td>0.10959</td>\n",
       "      <td>0.0</td>\n",
       "      <td>11.93</td>\n",
       "      <td>0</td>\n",
       "      <td>0.573</td>\n",
       "      <td>6.794</td>\n",
       "      <td>89.3</td>\n",
       "      <td>2.3889</td>\n",
       "      <td>1</td>\n",
       "      <td>273.0</td>\n",
       "      <td>21.0</td>\n",
       "      <td>393.45</td>\n",
       "      <td>6.48</td>\n",
       "      <td>22.0</td>\n",
       "    </tr>\n",
       "    <tr>\n",
       "      <th>505</th>\n",
       "      <td>0.04741</td>\n",
       "      <td>0.0</td>\n",
       "      <td>11.93</td>\n",
       "      <td>0</td>\n",
       "      <td>0.573</td>\n",
       "      <td>6.030</td>\n",
       "      <td>80.8</td>\n",
       "      <td>2.5050</td>\n",
       "      <td>1</td>\n",
       "      <td>273.0</td>\n",
       "      <td>21.0</td>\n",
       "      <td>396.90</td>\n",
       "      <td>7.88</td>\n",
       "      <td>11.9</td>\n",
       "    </tr>\n",
       "  </tbody>\n",
       "</table>\n",
       "</div>"
      ],
      "text/plain": [
       "          0    1      2   3      4      5     6       7   8      9     10  \\\n",
       "501  0.06263  0.0  11.93   0  0.573  6.593  69.1  2.4786   1  273.0  21.0   \n",
       "502  0.04527  0.0  11.93   0  0.573  6.120  76.7  2.2875   1  273.0  21.0   \n",
       "503  0.06076  0.0  11.93   0  0.573  6.976  91.0  2.1675   1  273.0  21.0   \n",
       "504  0.10959  0.0  11.93   0  0.573  6.794  89.3  2.3889   1  273.0  21.0   \n",
       "505  0.04741  0.0  11.93   0  0.573  6.030  80.8  2.5050   1  273.0  21.0   \n",
       "\n",
       "         11    12    13  \n",
       "501  391.99  9.67  22.4  \n",
       "502  396.90  9.08  20.6  \n",
       "503  396.90  5.64  23.9  \n",
       "504  393.45  6.48  22.0  \n",
       "505  396.90  7.88  11.9  "
      ]
     },
     "execution_count": 4,
     "metadata": {},
     "output_type": "execute_result"
    }
   ],
   "source": [
    "data.tail()"
   ]
  },
  {
   "cell_type": "code",
   "execution_count": 5,
   "id": "11b89ef2",
   "metadata": {},
   "outputs": [],
   "source": [
    "X, y = data.iloc[:, :-1], data.iloc[:, -1]"
   ]
  },
  {
   "cell_type": "code",
   "execution_count": 6,
   "id": "358fb204",
   "metadata": {},
   "outputs": [],
   "source": [
    "train_pct_index = int(0.8 * len(X))\n",
    "x_train, x_test = X[:train_pct_index].values, X[train_pct_index:].values\n",
    "y_train, y_test = y[:train_pct_index].values, y[train_pct_index:].values"
   ]
  },
  {
   "cell_type": "code",
   "execution_count": 7,
   "id": "7e47740c",
   "metadata": {},
   "outputs": [
    {
     "data": {
      "text/plain": [
       "((404, 13), (102, 13), (404,), (102,))"
      ]
     },
     "execution_count": 7,
     "metadata": {},
     "output_type": "execute_result"
    }
   ],
   "source": [
    "#lets check the shape of the data\n",
    "x_train.shape , x_test.shape , y_train.shape , y_test.shape"
   ]
  },
  {
   "cell_type": "code",
   "execution_count": 8,
   "id": "900c5199",
   "metadata": {},
   "outputs": [],
   "source": [
    "mean_X_train = np.mean(x_train)\n",
    "std_X_train = np.std(x_train)\n",
    "mean_X_test = np.mean(x_test)\n",
    "std_X_test = np.std(x_test)\n",
    "#Scaling the data without sklearn\n",
    "x_train = (x_train - mean_X_train) / std_X_train\n",
    "x_test = (x_test - mean_X_test) / std_X_test"
   ]
  },
  {
   "cell_type": "code",
   "execution_count": 9,
   "id": "f5076dfb",
   "metadata": {},
   "outputs": [
    {
     "data": {
      "text/plain": [
       "(array([[-0.49655022, -0.36306913, -0.47946101, -0.4965971 , -0.4926061 ,\n",
       "         -0.4478223 , -0.0129291 , -0.46625658, -0.48917888,  1.69919626,\n",
       "         -0.38309832,  2.44769474, -0.45965436],\n",
       "        [-0.49639451, -0.4965971 , -0.44415028, -0.4965971 , -0.49311796,\n",
       "         -0.44896471,  0.08870052, -0.45975006, -0.48176066,  1.29861234,\n",
       "         -0.36455277,  2.44769474, -0.42879456],\n",
       "        [-0.49639466, -0.4965971 , -0.44415028, -0.4965971 , -0.49311796,\n",
       "         -0.44329719, -0.04334381, -0.45975006, -0.48176066,  1.29861234,\n",
       "         -0.36455277,  2.41750258, -0.46670167],\n",
       "        [-0.49635697, -0.4965971 , -0.48042538, -0.4965971 , -0.49319956,\n",
       "         -0.44468439, -0.15684259, -0.45162636, -0.47434244,  1.15024792,\n",
       "         -0.35787637,  2.43085538, -0.47478753],\n",
       "        [-0.49608487, -0.4965971 , -0.48042538, -0.4965971 , -0.49319956,\n",
       "         -0.44357908, -0.09452953, -0.45162636, -0.47434244,  1.15024792,\n",
       "         -0.35787637,  2.44769474, -0.45705799]]),\n",
       " array([[-0.2276315 , -0.45850344, -0.35788069, -0.45850344, -0.45465087,\n",
       "         -0.42775513,  0.01625803, -0.44956747, -0.32508101,  3.24396895,\n",
       "         -0.34620623,  1.37305295, -0.30629069],\n",
       "        [-0.08091352, -0.45850344, -0.35788069, -0.45850344, -0.45465087,\n",
       "         -0.42691012,  0.09742334, -0.45057926, -0.32508101,  3.24396895,\n",
       "         -0.34620623,  1.6816479 , -0.33075147],\n",
       "        [-0.34333654, -0.45850344, -0.35788069, -0.45850344, -0.45483988,\n",
       "         -0.43549919,  0.09742334, -0.45195407, -0.32508101,  3.24396895,\n",
       "         -0.34620623,  1.5996487 , -0.32875013],\n",
       "        [-0.39206408, -0.45850344, -0.35788069, -0.45850344, -0.45483988,\n",
       "         -0.42732707,  0.09742334, -0.45135867, -0.32508101,  3.24396895,\n",
       "         -0.34620623,  1.38767382, -0.39106952],\n",
       "        [-0.41734323, -0.45850344, -0.35788069, -0.45850344, -0.45518456,\n",
       "         -0.42727703,  0.08574888, -0.45041637, -0.32508101,  3.24396895,\n",
       "         -0.34620623,  1.2906646 , -0.31173877]]))"
      ]
     },
     "execution_count": 9,
     "metadata": {},
     "output_type": "execute_result"
    }
   ],
   "source": [
    "x_train[:5] , x_test[:5]"
   ]
  },
  {
   "cell_type": "code",
   "execution_count": 10,
   "id": "a0807d1f",
   "metadata": {},
   "outputs": [],
   "source": [
    "# creating a class for Lasso Regression\n",
    "\n",
    "class Lasso_Regression():\n",
    "\n",
    "  #initiating the hyperparameters\n",
    "  def __init__(self, learning_rate, no_of_iterations, lambda_parameter):\n",
    "\n",
    "    self.learning_rate = learning_rate\n",
    "    self.no_of_iterations = no_of_iterations\n",
    "    self.lambda_parameter = lambda_parameter\n",
    "\n",
    "\n",
    "  # fitting the dataset to the Lasso Regression model\n",
    "  def fit(self, X, Y):\n",
    "\n",
    "    # m --> number of Data points --> number of rows\n",
    "    # n --> number of input features --> number of columns\n",
    "    self.m, self.n = X.shape\n",
    "\n",
    "    self.w = np.zeros(self.n)\n",
    "\n",
    "    self.b = 0\n",
    "\n",
    "    self.X = X\n",
    "\n",
    "    self.Y = Y\n",
    "\n",
    "    # implementing Gradient Descent algorithm for Optimization\n",
    "\n",
    "    for i in range(self.no_of_iterations):     # missed \"self\"\n",
    "      self.upadte_weights()\n",
    "\n",
    "\n",
    "  # function for updating the weight & bias value\n",
    "  def upadte_weights(self):\n",
    "\n",
    "    # linear equation of the model\n",
    "    Y_prediction = self.predict(self.X)\n",
    "\n",
    "    # gradients (dw, db)\n",
    "\n",
    "    # gradient for weight\n",
    "    dw = np.zeros(self.n)\n",
    "\n",
    "    for i in range(self.n):\n",
    "\n",
    "      if self.w[i]>0:\n",
    "\n",
    "        dw[i] = (-(2*(self.X[:,i]).dot(self.Y - Y_prediction)) + self.lambda_parameter) / self.m \n",
    "\n",
    "      else :\n",
    "\n",
    "        dw[i] = (-(2*(self.X[:,i]).dot(self.Y - Y_prediction)) - self.lambda_parameter) / self.m\n",
    "\n",
    "\n",
    "    # gradient for bias\n",
    "    db = - 2 * np.sum(self.Y - Y_prediction) / self.m\n",
    "\n",
    "\n",
    "    # updating the weights & bias\n",
    "\n",
    "    self.w = self.w - self.learning_rate*dw\n",
    "    self.b = self.b - self.learning_rate*db\n",
    "\n",
    "    \n",
    "\n",
    "\n",
    "  # Predicting the Target variable\n",
    "  def predict(self,X):\n",
    "\n",
    "    return X.dot(self.w) + self.b"
   ]
  },
  {
   "cell_type": "code",
   "execution_count": 11,
   "id": "c4072a6f",
   "metadata": {},
   "outputs": [],
   "source": [
    "model = Lasso_Regression( learning_rate = 0.01, no_of_iterations=1000,\n",
    "                         lambda_parameter=0.98 )"
   ]
  },
  {
   "cell_type": "code",
   "execution_count": 12,
   "id": "1d456038",
   "metadata": {},
   "outputs": [],
   "source": [
    "model.fit(x_train, y_train)"
   ]
  },
  {
   "cell_type": "code",
   "execution_count": 13,
   "id": "83db1613",
   "metadata": {},
   "outputs": [],
   "source": [
    "y_pred = model.predict(x_test)"
   ]
  },
  {
   "cell_type": "code",
   "execution_count": 14,
   "id": "779c1284",
   "metadata": {},
   "outputs": [],
   "source": [
    "SSres = np.sum((y_test - y_pred)**2)"
   ]
  },
  {
   "cell_type": "code",
   "execution_count": 15,
   "id": "00867bc0",
   "metadata": {},
   "outputs": [],
   "source": [
    "y_pred_mean = np.mean(y_pred)"
   ]
  },
  {
   "cell_type": "code",
   "execution_count": 16,
   "id": "f79e52f0",
   "metadata": {},
   "outputs": [],
   "source": [
    "SStot = np.sum((y_test - y_pred_mean)**2)"
   ]
  },
  {
   "cell_type": "code",
   "execution_count": 17,
   "id": "bf5a8cdd",
   "metadata": {},
   "outputs": [],
   "source": [
    "r2 = 1 - SSres/SStot"
   ]
  },
  {
   "cell_type": "code",
   "execution_count": 18,
   "id": "96cb6802",
   "metadata": {},
   "outputs": [
    {
     "name": "stdout",
     "output_type": "stream",
     "text": [
      "r2_score is  13.19\n"
     ]
    }
   ],
   "source": [
    "r2for = \"{:.2f}\".format(r2*100)\n",
    "print(\"r2_score is \" , r2for)"
   ]
  },
  {
   "cell_type": "code",
   "execution_count": 19,
   "id": "4dc49133",
   "metadata": {},
   "outputs": [
    {
     "name": "stdout",
     "output_type": "stream",
     "text": [
      "Absolute mean square  4.10\n"
     ]
    }
   ],
   "source": [
    "mae = np.mean(np.abs(y_test-y_pred))\n",
    "maefor = \"{:.2f}\".format(mae)\n",
    "print(\"Absolute mean square \" , maefor)"
   ]
  },
  {
   "cell_type": "code",
   "execution_count": 20,
   "id": "4462d977",
   "metadata": {},
   "outputs": [
    {
     "name": "stdout",
     "output_type": "stream",
     "text": [
      "Root mean squared error  5.28\n"
     ]
    }
   ],
   "source": [
    "rmse = np.sqrt((np.sum((y_test-y_pred)**2))/len(y_test))\n",
    "rmsefor = \"{:.2f}\".format(rmse)\n",
    "print(\"Root mean squared error \" , rmsefor)"
   ]
  },
  {
   "cell_type": "code",
   "execution_count": 21,
   "id": "f7daf2eb",
   "metadata": {},
   "outputs": [
    {
     "name": "stdout",
     "output_type": "stream",
     "text": [
      "Mean squared error  27.90\n"
     ]
    }
   ],
   "source": [
    "mse = ((np.sum((y_test-y_pred)**2))/len(y_test))\n",
    "msefor = \"{:.2f}\".format(mse)\n",
    "print(\"Mean squared error \" , msefor)"
   ]
  },
  {
   "cell_type": "code",
   "execution_count": 22,
   "id": "4ab867b6",
   "metadata": {},
   "outputs": [],
   "source": [
    "def Gridsearch():\n",
    "    \n",
    "\n",
    "# Model training    \n",
    "    max_accuracy = 0\n",
    "      \n",
    "    # learning_rate choices    \n",
    "    learning_rates = [ 0.1, 0.2, 0.3, 0.4, 0.5, \n",
    "                      0.01, 0.02, 0.03, 0.04, 0.05 ]\n",
    "      \n",
    "    # iterations choices    \n",
    "    no_of_iterations = [ 100, 200, 300, 400, 500 ]\n",
    "    \n",
    "    # lambda parameters\n",
    "    lambda_parameter = [0, 0.1, 0.5, 1, 10]\n",
    "      \n",
    "    # available combination of learning_rate and iterations\n",
    "      \n",
    "    parameters = []    \n",
    "    for i in learning_rates :        \n",
    "        for j in no_of_iterations : \n",
    "            for a in lambda_parameter:\n",
    "                parameters.append( ( i, j, a ) )\n",
    "              \n",
    "    print(\"Available combinations : \",  parameters )\n",
    "              \n",
    "    # Applying linear searching in list of available combination\n",
    "    # to achieved maximum accuracy on CV set\n",
    "      \n",
    "    for k in range( len( parameters ) ) :        \n",
    "        model = Lasso_Regression( learning_rate = parameters[k][0], no_of_iterations = parameters[k][1], lambda_parameter = parameters[k][2])\n",
    "      \n",
    "        model.fit( x_train, y_train )\n",
    "        \n",
    "        # Prediction on validation set\n",
    "        Y_pred = model.predict( x_test )\n",
    "       \n",
    "        # measure performance on validation set\n",
    "      \n",
    "        correctly_price = 0\n",
    "      \n",
    "        # counter    \n",
    "        count = 0\n",
    "      \n",
    "        for count in range( np.size( y_pred ) ) :            \n",
    "            if y_test[count] == y_pred[count] :                \n",
    "                correctly_price = correctly_price + 1   \n",
    "                  \n",
    "        curr_accuracy = ( correctly_price / count ) * 100\n",
    "                  \n",
    "        if max_accuracy < curr_accuracy :            \n",
    "            max_accuracy = curr_accuracy\n",
    "              \n",
    "    print( \"Maximum accuracy achieved by our model through grid searching : \", max_accuracy )\n",
    "    \n"
   ]
  },
  {
   "cell_type": "code",
   "execution_count": 23,
   "id": "39e32db3",
   "metadata": {},
   "outputs": [
    {
     "name": "stdout",
     "output_type": "stream",
     "text": [
      "Available combinations :  [(0.1, 100, 0), (0.1, 100, 0.1), (0.1, 100, 0.5), (0.1, 100, 1), (0.1, 100, 10), (0.1, 200, 0), (0.1, 200, 0.1), (0.1, 200, 0.5), (0.1, 200, 1), (0.1, 200, 10), (0.1, 300, 0), (0.1, 300, 0.1), (0.1, 300, 0.5), (0.1, 300, 1), (0.1, 300, 10), (0.1, 400, 0), (0.1, 400, 0.1), (0.1, 400, 0.5), (0.1, 400, 1), (0.1, 400, 10), (0.1, 500, 0), (0.1, 500, 0.1), (0.1, 500, 0.5), (0.1, 500, 1), (0.1, 500, 10), (0.2, 100, 0), (0.2, 100, 0.1), (0.2, 100, 0.5), (0.2, 100, 1), (0.2, 100, 10), (0.2, 200, 0), (0.2, 200, 0.1), (0.2, 200, 0.5), (0.2, 200, 1), (0.2, 200, 10), (0.2, 300, 0), (0.2, 300, 0.1), (0.2, 300, 0.5), (0.2, 300, 1), (0.2, 300, 10), (0.2, 400, 0), (0.2, 400, 0.1), (0.2, 400, 0.5), (0.2, 400, 1), (0.2, 400, 10), (0.2, 500, 0), (0.2, 500, 0.1), (0.2, 500, 0.5), (0.2, 500, 1), (0.2, 500, 10), (0.3, 100, 0), (0.3, 100, 0.1), (0.3, 100, 0.5), (0.3, 100, 1), (0.3, 100, 10), (0.3, 200, 0), (0.3, 200, 0.1), (0.3, 200, 0.5), (0.3, 200, 1), (0.3, 200, 10), (0.3, 300, 0), (0.3, 300, 0.1), (0.3, 300, 0.5), (0.3, 300, 1), (0.3, 300, 10), (0.3, 400, 0), (0.3, 400, 0.1), (0.3, 400, 0.5), (0.3, 400, 1), (0.3, 400, 10), (0.3, 500, 0), (0.3, 500, 0.1), (0.3, 500, 0.5), (0.3, 500, 1), (0.3, 500, 10), (0.4, 100, 0), (0.4, 100, 0.1), (0.4, 100, 0.5), (0.4, 100, 1), (0.4, 100, 10), (0.4, 200, 0), (0.4, 200, 0.1), (0.4, 200, 0.5), (0.4, 200, 1), (0.4, 200, 10), (0.4, 300, 0), (0.4, 300, 0.1), (0.4, 300, 0.5), (0.4, 300, 1), (0.4, 300, 10), (0.4, 400, 0), (0.4, 400, 0.1), (0.4, 400, 0.5), (0.4, 400, 1), (0.4, 400, 10), (0.4, 500, 0), (0.4, 500, 0.1), (0.4, 500, 0.5), (0.4, 500, 1), (0.4, 500, 10), (0.5, 100, 0), (0.5, 100, 0.1), (0.5, 100, 0.5), (0.5, 100, 1), (0.5, 100, 10), (0.5, 200, 0), (0.5, 200, 0.1), (0.5, 200, 0.5), (0.5, 200, 1), (0.5, 200, 10), (0.5, 300, 0), (0.5, 300, 0.1), (0.5, 300, 0.5), (0.5, 300, 1), (0.5, 300, 10), (0.5, 400, 0), (0.5, 400, 0.1), (0.5, 400, 0.5), (0.5, 400, 1), (0.5, 400, 10), (0.5, 500, 0), (0.5, 500, 0.1), (0.5, 500, 0.5), (0.5, 500, 1), (0.5, 500, 10), (0.01, 100, 0), (0.01, 100, 0.1), (0.01, 100, 0.5), (0.01, 100, 1), (0.01, 100, 10), (0.01, 200, 0), (0.01, 200, 0.1), (0.01, 200, 0.5), (0.01, 200, 1), (0.01, 200, 10), (0.01, 300, 0), (0.01, 300, 0.1), (0.01, 300, 0.5), (0.01, 300, 1), (0.01, 300, 10), (0.01, 400, 0), (0.01, 400, 0.1), (0.01, 400, 0.5), (0.01, 400, 1), (0.01, 400, 10), (0.01, 500, 0), (0.01, 500, 0.1), (0.01, 500, 0.5), (0.01, 500, 1), (0.01, 500, 10), (0.02, 100, 0), (0.02, 100, 0.1), (0.02, 100, 0.5), (0.02, 100, 1), (0.02, 100, 10), (0.02, 200, 0), (0.02, 200, 0.1), (0.02, 200, 0.5), (0.02, 200, 1), (0.02, 200, 10), (0.02, 300, 0), (0.02, 300, 0.1), (0.02, 300, 0.5), (0.02, 300, 1), (0.02, 300, 10), (0.02, 400, 0), (0.02, 400, 0.1), (0.02, 400, 0.5), (0.02, 400, 1), (0.02, 400, 10), (0.02, 500, 0), (0.02, 500, 0.1), (0.02, 500, 0.5), (0.02, 500, 1), (0.02, 500, 10), (0.03, 100, 0), (0.03, 100, 0.1), (0.03, 100, 0.5), (0.03, 100, 1), (0.03, 100, 10), (0.03, 200, 0), (0.03, 200, 0.1), (0.03, 200, 0.5), (0.03, 200, 1), (0.03, 200, 10), (0.03, 300, 0), (0.03, 300, 0.1), (0.03, 300, 0.5), (0.03, 300, 1), (0.03, 300, 10), (0.03, 400, 0), (0.03, 400, 0.1), (0.03, 400, 0.5), (0.03, 400, 1), (0.03, 400, 10), (0.03, 500, 0), (0.03, 500, 0.1), (0.03, 500, 0.5), (0.03, 500, 1), (0.03, 500, 10), (0.04, 100, 0), (0.04, 100, 0.1), (0.04, 100, 0.5), (0.04, 100, 1), (0.04, 100, 10), (0.04, 200, 0), (0.04, 200, 0.1), (0.04, 200, 0.5), (0.04, 200, 1), (0.04, 200, 10), (0.04, 300, 0), (0.04, 300, 0.1), (0.04, 300, 0.5), (0.04, 300, 1), (0.04, 300, 10), (0.04, 400, 0), (0.04, 400, 0.1), (0.04, 400, 0.5), (0.04, 400, 1), (0.04, 400, 10), (0.04, 500, 0), (0.04, 500, 0.1), (0.04, 500, 0.5), (0.04, 500, 1), (0.04, 500, 10), (0.05, 100, 0), (0.05, 100, 0.1), (0.05, 100, 0.5), (0.05, 100, 1), (0.05, 100, 10), (0.05, 200, 0), (0.05, 200, 0.1), (0.05, 200, 0.5), (0.05, 200, 1), (0.05, 200, 10), (0.05, 300, 0), (0.05, 300, 0.1), (0.05, 300, 0.5), (0.05, 300, 1), (0.05, 300, 10), (0.05, 400, 0), (0.05, 400, 0.1), (0.05, 400, 0.5), (0.05, 400, 1), (0.05, 400, 10), (0.05, 500, 0), (0.05, 500, 0.1), (0.05, 500, 0.5), (0.05, 500, 1), (0.05, 500, 10)]\n"
     ]
    },
    {
     "name": "stderr",
     "output_type": "stream",
     "text": [
      "C:\\Users\\REDDYM~1\\AppData\\Local\\Temp/ipykernel_2932/3907540540.py:49: RuntimeWarning: overflow encountered in double_scalars\n",
      "  dw[i] = (-(2*(self.X[:,i]).dot(self.Y - Y_prediction)) + self.lambda_parameter) / self.m\n",
      "C:\\Users\\REDDYM~1\\AppData\\Local\\Temp/ipykernel_2932/3907540540.py:62: RuntimeWarning: invalid value encountered in subtract\n",
      "  self.w = self.w - self.learning_rate*dw\n",
      "C:\\Users\\REDDYM~1\\AppData\\Local\\Temp/ipykernel_2932/3907540540.py:57: RuntimeWarning: overflow encountered in double_scalars\n",
      "  db = - 2 * np.sum(self.Y - Y_prediction) / self.m\n",
      "C:\\Users\\REDDYM~1\\AppData\\Local\\Temp/ipykernel_2932/3907540540.py:63: RuntimeWarning: invalid value encountered in double_scalars\n",
      "  self.b = self.b - self.learning_rate*db\n"
     ]
    },
    {
     "name": "stdout",
     "output_type": "stream",
     "text": [
      "Maximum accuracy achieved by our model through grid searching :  0\n"
     ]
    }
   ],
   "source": [
    "if __name__ == \"__main__\" :     \n",
    "    Gridsearch()"
   ]
  },
  {
   "cell_type": "code",
   "execution_count": null,
   "id": "472faca2",
   "metadata": {},
   "outputs": [],
   "source": []
  }
 ],
 "metadata": {
  "kernelspec": {
   "display_name": "Python 3 (ipykernel)",
   "language": "python",
   "name": "python3"
  },
  "language_info": {
   "codemirror_mode": {
    "name": "ipython",
    "version": 3
   },
   "file_extension": ".py",
   "mimetype": "text/x-python",
   "name": "python",
   "nbconvert_exporter": "python",
   "pygments_lexer": "ipython3",
   "version": "3.9.7"
  }
 },
 "nbformat": 4,
 "nbformat_minor": 5
}
