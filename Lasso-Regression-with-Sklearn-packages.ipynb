{
 "cells": [
  {
   "cell_type": "markdown",
   "id": "df587003",
   "metadata": {},
   "source": [
    "## Reading and Understanding the Data"
   ]
  },
  {
   "cell_type": "code",
   "execution_count": 1,
   "id": "dd552b3f",
   "metadata": {
    "_cell_guid": "b1076dfc-b9ad-4769-8c92-a6c4dae69d19",
    "_uuid": "8f2839f25d086af736a60e9eeb907d3b93b6e0e5",
    "execution": {
     "iopub.execute_input": "2021-10-19T06:19:56.312800Z",
     "iopub.status.busy": "2021-10-19T06:19:56.312203Z",
     "iopub.status.idle": "2021-10-19T06:19:56.355651Z",
     "shell.execute_reply": "2021-10-19T06:19:56.355017Z",
     "shell.execute_reply.started": "2021-10-19T06:19:20.608631Z"
    },
    "papermill": {
     "duration": 0.06555,
     "end_time": "2021-10-19T06:19:56.355835",
     "exception": false,
     "start_time": "2021-10-19T06:19:56.290285",
     "status": "completed"
    },
    "tags": []
   },
   "outputs": [],
   "source": [
    "#importing  the important libraries\n",
    "import pandas as pd\n",
    "import numpy as np\n",
    "\n",
    "# Data Visualisation\n",
    "\n",
    "import matplotlib.pyplot as plt \n",
    "import seaborn as sns\n",
    "\n",
    "# Supress Warnings\n",
    "\n",
    "import warnings\n",
    "warnings.filterwarnings('ignore')"
   ]
  },
  {
   "cell_type": "code",
   "execution_count": 2,
   "id": "6581142d",
   "metadata": {},
   "outputs": [
    {
     "data": {
      "text/html": [
       "<div>\n",
       "<style scoped>\n",
       "    .dataframe tbody tr th:only-of-type {\n",
       "        vertical-align: middle;\n",
       "    }\n",
       "\n",
       "    .dataframe tbody tr th {\n",
       "        vertical-align: top;\n",
       "    }\n",
       "\n",
       "    .dataframe thead th {\n",
       "        text-align: right;\n",
       "    }\n",
       "</style>\n",
       "<table border=\"1\" class=\"dataframe\">\n",
       "  <thead>\n",
       "    <tr style=\"text-align: right;\">\n",
       "      <th></th>\n",
       "      <th>price</th>\n",
       "      <th>area</th>\n",
       "      <th>bedrooms</th>\n",
       "      <th>bathrooms</th>\n",
       "      <th>stories</th>\n",
       "      <th>mainroad</th>\n",
       "      <th>guestroom</th>\n",
       "      <th>basement</th>\n",
       "      <th>hotwaterheating</th>\n",
       "      <th>airconditioning</th>\n",
       "      <th>parking</th>\n",
       "      <th>prefarea</th>\n",
       "      <th>furnishingstatus</th>\n",
       "    </tr>\n",
       "  </thead>\n",
       "  <tbody>\n",
       "    <tr>\n",
       "      <th>0</th>\n",
       "      <td>13300000</td>\n",
       "      <td>7420</td>\n",
       "      <td>4</td>\n",
       "      <td>2</td>\n",
       "      <td>3</td>\n",
       "      <td>yes</td>\n",
       "      <td>no</td>\n",
       "      <td>no</td>\n",
       "      <td>no</td>\n",
       "      <td>yes</td>\n",
       "      <td>2</td>\n",
       "      <td>yes</td>\n",
       "      <td>furnished</td>\n",
       "    </tr>\n",
       "    <tr>\n",
       "      <th>1</th>\n",
       "      <td>12250000</td>\n",
       "      <td>8960</td>\n",
       "      <td>4</td>\n",
       "      <td>4</td>\n",
       "      <td>4</td>\n",
       "      <td>yes</td>\n",
       "      <td>no</td>\n",
       "      <td>no</td>\n",
       "      <td>no</td>\n",
       "      <td>yes</td>\n",
       "      <td>3</td>\n",
       "      <td>no</td>\n",
       "      <td>furnished</td>\n",
       "    </tr>\n",
       "    <tr>\n",
       "      <th>2</th>\n",
       "      <td>12250000</td>\n",
       "      <td>9960</td>\n",
       "      <td>3</td>\n",
       "      <td>2</td>\n",
       "      <td>2</td>\n",
       "      <td>yes</td>\n",
       "      <td>no</td>\n",
       "      <td>yes</td>\n",
       "      <td>no</td>\n",
       "      <td>no</td>\n",
       "      <td>2</td>\n",
       "      <td>yes</td>\n",
       "      <td>semi-furnished</td>\n",
       "    </tr>\n",
       "    <tr>\n",
       "      <th>3</th>\n",
       "      <td>12215000</td>\n",
       "      <td>7500</td>\n",
       "      <td>4</td>\n",
       "      <td>2</td>\n",
       "      <td>2</td>\n",
       "      <td>yes</td>\n",
       "      <td>no</td>\n",
       "      <td>yes</td>\n",
       "      <td>no</td>\n",
       "      <td>yes</td>\n",
       "      <td>3</td>\n",
       "      <td>yes</td>\n",
       "      <td>furnished</td>\n",
       "    </tr>\n",
       "    <tr>\n",
       "      <th>4</th>\n",
       "      <td>11410000</td>\n",
       "      <td>7420</td>\n",
       "      <td>4</td>\n",
       "      <td>1</td>\n",
       "      <td>2</td>\n",
       "      <td>yes</td>\n",
       "      <td>yes</td>\n",
       "      <td>yes</td>\n",
       "      <td>no</td>\n",
       "      <td>yes</td>\n",
       "      <td>2</td>\n",
       "      <td>no</td>\n",
       "      <td>furnished</td>\n",
       "    </tr>\n",
       "  </tbody>\n",
       "</table>\n",
       "</div>"
      ],
      "text/plain": [
       "      price  area  bedrooms  bathrooms  stories mainroad guestroom basement  \\\n",
       "0  13300000  7420         4          2        3      yes        no       no   \n",
       "1  12250000  8960         4          4        4      yes        no       no   \n",
       "2  12250000  9960         3          2        2      yes        no      yes   \n",
       "3  12215000  7500         4          2        2      yes        no      yes   \n",
       "4  11410000  7420         4          1        2      yes       yes      yes   \n",
       "\n",
       "  hotwaterheating airconditioning  parking prefarea furnishingstatus  \n",
       "0              no             yes        2      yes        furnished  \n",
       "1              no             yes        3       no        furnished  \n",
       "2              no              no        2      yes   semi-furnished  \n",
       "3              no             yes        3      yes        furnished  \n",
       "4              no             yes        2       no        furnished  "
      ]
     },
     "execution_count": 2,
     "metadata": {},
     "output_type": "execute_result"
    }
   ],
   "source": [
    "#reading the input data \n",
    "df=pd.read_csv('Housing.csv')\n",
    "#check the data\n",
    "df.head()"
   ]
  },
  {
   "cell_type": "code",
   "execution_count": 3,
   "id": "74dcc38d",
   "metadata": {},
   "outputs": [
    {
     "data": {
      "text/plain": [
       "(545, 13)"
      ]
     },
     "execution_count": 3,
     "metadata": {},
     "output_type": "execute_result"
    }
   ],
   "source": [
    "df.shape"
   ]
  },
  {
   "cell_type": "code",
   "execution_count": 4,
   "id": "f060a014",
   "metadata": {},
   "outputs": [
    {
     "name": "stdout",
     "output_type": "stream",
     "text": [
      "<class 'pandas.core.frame.DataFrame'>\n",
      "RangeIndex: 545 entries, 0 to 544\n",
      "Data columns (total 13 columns):\n",
      " #   Column            Non-Null Count  Dtype \n",
      "---  ------            --------------  ----- \n",
      " 0   price             545 non-null    int64 \n",
      " 1   area              545 non-null    int64 \n",
      " 2   bedrooms          545 non-null    int64 \n",
      " 3   bathrooms         545 non-null    int64 \n",
      " 4   stories           545 non-null    int64 \n",
      " 5   mainroad          545 non-null    object\n",
      " 6   guestroom         545 non-null    object\n",
      " 7   basement          545 non-null    object\n",
      " 8   hotwaterheating   545 non-null    object\n",
      " 9   airconditioning   545 non-null    object\n",
      " 10  parking           545 non-null    int64 \n",
      " 11  prefarea          545 non-null    object\n",
      " 12  furnishingstatus  545 non-null    object\n",
      "dtypes: int64(6), object(7)\n",
      "memory usage: 55.5+ KB\n"
     ]
    }
   ],
   "source": [
    "df.info()"
   ]
  },
  {
   "cell_type": "code",
   "execution_count": 5,
   "id": "11a05396",
   "metadata": {},
   "outputs": [
    {
     "data": {
      "text/plain": [
       "price               0\n",
       "area                0\n",
       "bedrooms            0\n",
       "bathrooms           0\n",
       "stories             0\n",
       "mainroad            0\n",
       "guestroom           0\n",
       "basement            0\n",
       "hotwaterheating     0\n",
       "airconditioning     0\n",
       "parking             0\n",
       "prefarea            0\n",
       "furnishingstatus    0\n",
       "dtype: int64"
      ]
     },
     "execution_count": 5,
     "metadata": {},
     "output_type": "execute_result"
    }
   ],
   "source": [
    "df.isnull().sum()"
   ]
  },
  {
   "cell_type": "code",
   "execution_count": 6,
   "id": "5d5de20e",
   "metadata": {
    "execution": {
     "iopub.execute_input": "2021-10-19T06:19:56.383036Z",
     "iopub.status.busy": "2021-10-19T06:19:56.382407Z",
     "iopub.status.idle": "2021-10-19T06:19:56.421684Z",
     "shell.execute_reply": "2021-10-19T06:19:56.422170Z",
     "shell.execute_reply.started": "2021-10-19T06:19:20.638514Z"
    },
    "papermill": {
     "duration": 0.054065,
     "end_time": "2021-10-19T06:19:56.422336",
     "exception": false,
     "start_time": "2021-10-19T06:19:56.368271",
     "status": "completed"
    },
    "tags": []
   },
   "outputs": [
    {
     "data": {
      "text/html": [
       "<div>\n",
       "<style scoped>\n",
       "    .dataframe tbody tr th:only-of-type {\n",
       "        vertical-align: middle;\n",
       "    }\n",
       "\n",
       "    .dataframe tbody tr th {\n",
       "        vertical-align: top;\n",
       "    }\n",
       "\n",
       "    .dataframe thead th {\n",
       "        text-align: right;\n",
       "    }\n",
       "</style>\n",
       "<table border=\"1\" class=\"dataframe\">\n",
       "  <thead>\n",
       "    <tr style=\"text-align: right;\">\n",
       "      <th></th>\n",
       "      <th>price</th>\n",
       "      <th>area</th>\n",
       "      <th>bedrooms</th>\n",
       "      <th>bathrooms</th>\n",
       "      <th>stories</th>\n",
       "      <th>parking</th>\n",
       "    </tr>\n",
       "  </thead>\n",
       "  <tbody>\n",
       "    <tr>\n",
       "      <th>count</th>\n",
       "      <td>5.450000e+02</td>\n",
       "      <td>545.000000</td>\n",
       "      <td>545.000000</td>\n",
       "      <td>545.000000</td>\n",
       "      <td>545.000000</td>\n",
       "      <td>545.000000</td>\n",
       "    </tr>\n",
       "    <tr>\n",
       "      <th>mean</th>\n",
       "      <td>4.766729e+06</td>\n",
       "      <td>5150.541284</td>\n",
       "      <td>2.965138</td>\n",
       "      <td>1.286239</td>\n",
       "      <td>1.805505</td>\n",
       "      <td>0.693578</td>\n",
       "    </tr>\n",
       "    <tr>\n",
       "      <th>std</th>\n",
       "      <td>1.870440e+06</td>\n",
       "      <td>2170.141023</td>\n",
       "      <td>0.738064</td>\n",
       "      <td>0.502470</td>\n",
       "      <td>0.867492</td>\n",
       "      <td>0.861586</td>\n",
       "    </tr>\n",
       "    <tr>\n",
       "      <th>min</th>\n",
       "      <td>1.750000e+06</td>\n",
       "      <td>1650.000000</td>\n",
       "      <td>1.000000</td>\n",
       "      <td>1.000000</td>\n",
       "      <td>1.000000</td>\n",
       "      <td>0.000000</td>\n",
       "    </tr>\n",
       "    <tr>\n",
       "      <th>25%</th>\n",
       "      <td>3.430000e+06</td>\n",
       "      <td>3600.000000</td>\n",
       "      <td>2.000000</td>\n",
       "      <td>1.000000</td>\n",
       "      <td>1.000000</td>\n",
       "      <td>0.000000</td>\n",
       "    </tr>\n",
       "    <tr>\n",
       "      <th>50%</th>\n",
       "      <td>4.340000e+06</td>\n",
       "      <td>4600.000000</td>\n",
       "      <td>3.000000</td>\n",
       "      <td>1.000000</td>\n",
       "      <td>2.000000</td>\n",
       "      <td>0.000000</td>\n",
       "    </tr>\n",
       "    <tr>\n",
       "      <th>75%</th>\n",
       "      <td>5.740000e+06</td>\n",
       "      <td>6360.000000</td>\n",
       "      <td>3.000000</td>\n",
       "      <td>2.000000</td>\n",
       "      <td>2.000000</td>\n",
       "      <td>1.000000</td>\n",
       "    </tr>\n",
       "    <tr>\n",
       "      <th>max</th>\n",
       "      <td>1.330000e+07</td>\n",
       "      <td>16200.000000</td>\n",
       "      <td>6.000000</td>\n",
       "      <td>4.000000</td>\n",
       "      <td>4.000000</td>\n",
       "      <td>3.000000</td>\n",
       "    </tr>\n",
       "  </tbody>\n",
       "</table>\n",
       "</div>"
      ],
      "text/plain": [
       "              price          area    bedrooms   bathrooms     stories  \\\n",
       "count  5.450000e+02    545.000000  545.000000  545.000000  545.000000   \n",
       "mean   4.766729e+06   5150.541284    2.965138    1.286239    1.805505   \n",
       "std    1.870440e+06   2170.141023    0.738064    0.502470    0.867492   \n",
       "min    1.750000e+06   1650.000000    1.000000    1.000000    1.000000   \n",
       "25%    3.430000e+06   3600.000000    2.000000    1.000000    1.000000   \n",
       "50%    4.340000e+06   4600.000000    3.000000    1.000000    2.000000   \n",
       "75%    5.740000e+06   6360.000000    3.000000    2.000000    2.000000   \n",
       "max    1.330000e+07  16200.000000    6.000000    4.000000    4.000000   \n",
       "\n",
       "          parking  \n",
       "count  545.000000  \n",
       "mean     0.693578  \n",
       "std      0.861586  \n",
       "min      0.000000  \n",
       "25%      0.000000  \n",
       "50%      0.000000  \n",
       "75%      1.000000  \n",
       "max      3.000000  "
      ]
     },
     "execution_count": 6,
     "metadata": {},
     "output_type": "execute_result"
    }
   ],
   "source": [
    "#describe the data\n",
    "df.describe()"
   ]
  },
  {
   "cell_type": "code",
   "execution_count": 7,
   "id": "1af9ede4",
   "metadata": {},
   "outputs": [
    {
     "data": {
      "image/png": "[encoded data removed]",
      "text/plain": [
       "<Figure size 720x360 with 6 Axes>"
      ]
     },
     "metadata": {
      "needs_background": "light"
     },
     "output_type": "display_data"
    }
   ],
   "source": [
    "# Outlier Analysis\n",
    "fig, axs = plt.subplots(2,3, figsize = (10,5))\n",
    "plt1 = sns.boxplot(df['price'], ax = axs[0,0])\n",
    "plt2 = sns.boxplot(df['area'], ax = axs[0,1])\n",
    "plt3 = sns.boxplot(df['bedrooms'], ax = axs[0,2])\n",
    "plt1 = sns.boxplot(df['bathrooms'], ax = axs[1,0])\n",
    "plt2 = sns.boxplot(df['stories'], ax = axs[1,1])\n",
    "plt3 = sns.boxplot(df['parking'], ax = axs[1,2])\n",
    "\n",
    "plt.tight_layout()"
   ]
  },
  {
   "cell_type": "code",
   "execution_count": 8,
   "id": "a45ebc1f",
   "metadata": {},
   "outputs": [
    {
     "data": {
      "image/png": "[encoded data removed]",
      "text/plain": [
       "<Figure size 432x288 with 1 Axes>"
      ]
     },
     "metadata": {
      "needs_background": "light"
     },
     "output_type": "display_data"
    }
   ],
   "source": [
    "# outlier treatment for price\n",
    "plt.boxplot(df.price)\n",
    "Q1 = df.price.quantile(0.25)\n",
    "Q3 = df.price.quantile(0.75)\n",
    "IQR = Q3 - Q1\n",
    "df = df[(df.price >= Q1 - 1.5*IQR) & (df.price <= Q3 + 1.5*IQR)]"
   ]
  },
  {
   "cell_type": "code",
   "execution_count": 9,
   "id": "35d795ac",
   "metadata": {},
   "outputs": [
    {
     "data": {
      "image/png": "[encoded data removed]",
      "text/plain": [
       "<Figure size 432x288 with 1 Axes>"
      ]
     },
     "metadata": {
      "needs_background": "light"
     },
     "output_type": "display_data"
    }
   ],
   "source": [
    "# outlier treatment for area\n",
    "plt.boxplot(df.area)\n",
    "Q1 = df.area.quantile(0.25)\n",
    "Q3 = df.area.quantile(0.75)\n",
    "IQR = Q3 - Q1\n",
    "df = df[(df.area >= Q1 - 1.5*IQR) & (df.area <= Q3 + 1.5*IQR)]"
   ]
  },
  {
   "cell_type": "code",
   "execution_count": 10,
   "id": "c4b680d1",
   "metadata": {},
   "outputs": [
    {
     "data": {
      "image/png": "[encoded data removed]",
      "text/plain": [
       "<Figure size 1080x1080 with 42 Axes>"
      ]
     },
     "metadata": {
      "needs_background": "light"
     },
     "output_type": "display_data"
    }
   ],
   "source": [
    "sns.pairplot(df)\n",
    "plt.show()"
   ]
  },
  {
   "cell_type": "code",
   "execution_count": 11,
   "id": "773f2b52",
   "metadata": {},
   "outputs": [],
   "source": [
    "# List of variables to map\n",
    "\n",
    "varlist =  ['mainroad', 'guestroom', 'basement', 'hotwaterheating', 'airconditioning', 'prefarea']\n",
    "\n",
    "# Defining the map function\n",
    "def binary_map(x):\n",
    "    return x.map({'yes': 1, \"no\": 0})\n",
    "\n",
    "# Applying the function to the housing list\n",
    "df[varlist] = df[varlist].apply(binary_map)"
   ]
  },
  {
   "cell_type": "code",
   "execution_count": 12,
   "id": "2326d651",
   "metadata": {},
   "outputs": [
    {
     "data": {
      "text/html": [
       "<div>\n",
       "<style scoped>\n",
       "    .dataframe tbody tr th:only-of-type {\n",
       "        vertical-align: middle;\n",
       "    }\n",
       "\n",
       "    .dataframe tbody tr th {\n",
       "        vertical-align: top;\n",
       "    }\n",
       "\n",
       "    .dataframe thead th {\n",
       "        text-align: right;\n",
       "    }\n",
       "</style>\n",
       "<table border=\"1\" class=\"dataframe\">\n",
       "  <thead>\n",
       "    <tr style=\"text-align: right;\">\n",
       "      <th></th>\n",
       "      <th>price</th>\n",
       "      <th>area</th>\n",
       "      <th>bedrooms</th>\n",
       "      <th>bathrooms</th>\n",
       "      <th>stories</th>\n",
       "      <th>mainroad</th>\n",
       "      <th>guestroom</th>\n",
       "      <th>basement</th>\n",
       "      <th>hotwaterheating</th>\n",
       "      <th>airconditioning</th>\n",
       "      <th>parking</th>\n",
       "      <th>prefarea</th>\n",
       "      <th>furnishingstatus</th>\n",
       "    </tr>\n",
       "  </thead>\n",
       "  <tbody>\n",
       "    <tr>\n",
       "      <th>15</th>\n",
       "      <td>9100000</td>\n",
       "      <td>6000</td>\n",
       "      <td>4</td>\n",
       "      <td>1</td>\n",
       "      <td>2</td>\n",
       "      <td>1</td>\n",
       "      <td>0</td>\n",
       "      <td>1</td>\n",
       "      <td>0</td>\n",
       "      <td>0</td>\n",
       "      <td>2</td>\n",
       "      <td>0</td>\n",
       "      <td>semi-furnished</td>\n",
       "    </tr>\n",
       "    <tr>\n",
       "      <th>16</th>\n",
       "      <td>9100000</td>\n",
       "      <td>6600</td>\n",
       "      <td>4</td>\n",
       "      <td>2</td>\n",
       "      <td>2</td>\n",
       "      <td>1</td>\n",
       "      <td>1</td>\n",
       "      <td>1</td>\n",
       "      <td>0</td>\n",
       "      <td>1</td>\n",
       "      <td>1</td>\n",
       "      <td>1</td>\n",
       "      <td>unfurnished</td>\n",
       "    </tr>\n",
       "    <tr>\n",
       "      <th>17</th>\n",
       "      <td>8960000</td>\n",
       "      <td>8500</td>\n",
       "      <td>3</td>\n",
       "      <td>2</td>\n",
       "      <td>4</td>\n",
       "      <td>1</td>\n",
       "      <td>0</td>\n",
       "      <td>0</td>\n",
       "      <td>0</td>\n",
       "      <td>1</td>\n",
       "      <td>2</td>\n",
       "      <td>0</td>\n",
       "      <td>furnished</td>\n",
       "    </tr>\n",
       "    <tr>\n",
       "      <th>18</th>\n",
       "      <td>8890000</td>\n",
       "      <td>4600</td>\n",
       "      <td>3</td>\n",
       "      <td>2</td>\n",
       "      <td>2</td>\n",
       "      <td>1</td>\n",
       "      <td>1</td>\n",
       "      <td>0</td>\n",
       "      <td>0</td>\n",
       "      <td>1</td>\n",
       "      <td>2</td>\n",
       "      <td>0</td>\n",
       "      <td>furnished</td>\n",
       "    </tr>\n",
       "    <tr>\n",
       "      <th>19</th>\n",
       "      <td>8855000</td>\n",
       "      <td>6420</td>\n",
       "      <td>3</td>\n",
       "      <td>2</td>\n",
       "      <td>2</td>\n",
       "      <td>1</td>\n",
       "      <td>0</td>\n",
       "      <td>0</td>\n",
       "      <td>0</td>\n",
       "      <td>1</td>\n",
       "      <td>1</td>\n",
       "      <td>1</td>\n",
       "      <td>semi-furnished</td>\n",
       "    </tr>\n",
       "  </tbody>\n",
       "</table>\n",
       "</div>"
      ],
      "text/plain": [
       "      price  area  bedrooms  bathrooms  stories  mainroad  guestroom  \\\n",
       "15  9100000  6000         4          1        2         1          0   \n",
       "16  9100000  6600         4          2        2         1          1   \n",
       "17  8960000  8500         3          2        4         1          0   \n",
       "18  8890000  4600         3          2        2         1          1   \n",
       "19  8855000  6420         3          2        2         1          0   \n",
       "\n",
       "    basement  hotwaterheating  airconditioning  parking  prefarea  \\\n",
       "15         1                0                0        2         0   \n",
       "16         1                0                1        1         1   \n",
       "17         0                0                1        2         0   \n",
       "18         0                0                1        2         0   \n",
       "19         0                0                1        1         1   \n",
       "\n",
       "   furnishingstatus  \n",
       "15   semi-furnished  \n",
       "16      unfurnished  \n",
       "17        furnished  \n",
       "18        furnished  \n",
       "19   semi-furnished  "
      ]
     },
     "execution_count": 12,
     "metadata": {},
     "output_type": "execute_result"
    }
   ],
   "source": [
    "df.head()"
   ]
  },
  {
   "cell_type": "code",
   "execution_count": 13,
   "id": "b3be377f",
   "metadata": {},
   "outputs": [],
   "source": [
    "# Get the dummy variables for the feature 'furnishingstatus' and store it in a new variable - 'status'\n",
    "status = pd.get_dummies(df['furnishingstatus'], drop_first = True)"
   ]
  },
  {
   "cell_type": "code",
   "execution_count": 14,
   "id": "8dcb0bd9",
   "metadata": {},
   "outputs": [
    {
     "data": {
      "text/html": [
       "<div>\n",
       "<style scoped>\n",
       "    .dataframe tbody tr th:only-of-type {\n",
       "        vertical-align: middle;\n",
       "    }\n",
       "\n",
       "    .dataframe tbody tr th {\n",
       "        vertical-align: top;\n",
       "    }\n",
       "\n",
       "    .dataframe thead th {\n",
       "        text-align: right;\n",
       "    }\n",
       "</style>\n",
       "<table border=\"1\" class=\"dataframe\">\n",
       "  <thead>\n",
       "    <tr style=\"text-align: right;\">\n",
       "      <th></th>\n",
       "      <th>semi-furnished</th>\n",
       "      <th>unfurnished</th>\n",
       "    </tr>\n",
       "  </thead>\n",
       "  <tbody>\n",
       "    <tr>\n",
       "      <th>15</th>\n",
       "      <td>1</td>\n",
       "      <td>0</td>\n",
       "    </tr>\n",
       "    <tr>\n",
       "      <th>16</th>\n",
       "      <td>0</td>\n",
       "      <td>1</td>\n",
       "    </tr>\n",
       "    <tr>\n",
       "      <th>17</th>\n",
       "      <td>0</td>\n",
       "      <td>0</td>\n",
       "    </tr>\n",
       "    <tr>\n",
       "      <th>18</th>\n",
       "      <td>0</td>\n",
       "      <td>0</td>\n",
       "    </tr>\n",
       "    <tr>\n",
       "      <th>19</th>\n",
       "      <td>1</td>\n",
       "      <td>0</td>\n",
       "    </tr>\n",
       "  </tbody>\n",
       "</table>\n",
       "</div>"
      ],
      "text/plain": [
       "    semi-furnished  unfurnished\n",
       "15               1            0\n",
       "16               0            1\n",
       "17               0            0\n",
       "18               0            0\n",
       "19               1            0"
      ]
     },
     "execution_count": 14,
     "metadata": {},
     "output_type": "execute_result"
    }
   ],
   "source": [
    "status.head()"
   ]
  },
  {
   "cell_type": "code",
   "execution_count": 15,
   "id": "70d73330",
   "metadata": {},
   "outputs": [],
   "source": [
    "# Add the results to the original housing dataframe\n",
    "\n",
    "df = pd.concat([df, status], axis = 1)"
   ]
  },
  {
   "cell_type": "code",
   "execution_count": 16,
   "id": "2dd6c263",
   "metadata": {},
   "outputs": [
    {
     "data": {
      "text/html": [
       "<div>\n",
       "<style scoped>\n",
       "    .dataframe tbody tr th:only-of-type {\n",
       "        vertical-align: middle;\n",
       "    }\n",
       "\n",
       "    .dataframe tbody tr th {\n",
       "        vertical-align: top;\n",
       "    }\n",
       "\n",
       "    .dataframe thead th {\n",
       "        text-align: right;\n",
       "    }\n",
       "</style>\n",
       "<table border=\"1\" class=\"dataframe\">\n",
       "  <thead>\n",
       "    <tr style=\"text-align: right;\">\n",
       "      <th></th>\n",
       "      <th>price</th>\n",
       "      <th>area</th>\n",
       "      <th>bedrooms</th>\n",
       "      <th>bathrooms</th>\n",
       "      <th>stories</th>\n",
       "      <th>mainroad</th>\n",
       "      <th>guestroom</th>\n",
       "      <th>basement</th>\n",
       "      <th>hotwaterheating</th>\n",
       "      <th>airconditioning</th>\n",
       "      <th>parking</th>\n",
       "      <th>prefarea</th>\n",
       "      <th>furnishingstatus</th>\n",
       "      <th>semi-furnished</th>\n",
       "      <th>unfurnished</th>\n",
       "    </tr>\n",
       "  </thead>\n",
       "  <tbody>\n",
       "    <tr>\n",
       "      <th>15</th>\n",
       "      <td>9100000</td>\n",
       "      <td>6000</td>\n",
       "      <td>4</td>\n",
       "      <td>1</td>\n",
       "      <td>2</td>\n",
       "      <td>1</td>\n",
       "      <td>0</td>\n",
       "      <td>1</td>\n",
       "      <td>0</td>\n",
       "      <td>0</td>\n",
       "      <td>2</td>\n",
       "      <td>0</td>\n",
       "      <td>semi-furnished</td>\n",
       "      <td>1</td>\n",
       "      <td>0</td>\n",
       "    </tr>\n",
       "    <tr>\n",
       "      <th>16</th>\n",
       "      <td>9100000</td>\n",
       "      <td>6600</td>\n",
       "      <td>4</td>\n",
       "      <td>2</td>\n",
       "      <td>2</td>\n",
       "      <td>1</td>\n",
       "      <td>1</td>\n",
       "      <td>1</td>\n",
       "      <td>0</td>\n",
       "      <td>1</td>\n",
       "      <td>1</td>\n",
       "      <td>1</td>\n",
       "      <td>unfurnished</td>\n",
       "      <td>0</td>\n",
       "      <td>1</td>\n",
       "    </tr>\n",
       "    <tr>\n",
       "      <th>17</th>\n",
       "      <td>8960000</td>\n",
       "      <td>8500</td>\n",
       "      <td>3</td>\n",
       "      <td>2</td>\n",
       "      <td>4</td>\n",
       "      <td>1</td>\n",
       "      <td>0</td>\n",
       "      <td>0</td>\n",
       "      <td>0</td>\n",
       "      <td>1</td>\n",
       "      <td>2</td>\n",
       "      <td>0</td>\n",
       "      <td>furnished</td>\n",
       "      <td>0</td>\n",
       "      <td>0</td>\n",
       "    </tr>\n",
       "    <tr>\n",
       "      <th>18</th>\n",
       "      <td>8890000</td>\n",
       "      <td>4600</td>\n",
       "      <td>3</td>\n",
       "      <td>2</td>\n",
       "      <td>2</td>\n",
       "      <td>1</td>\n",
       "      <td>1</td>\n",
       "      <td>0</td>\n",
       "      <td>0</td>\n",
       "      <td>1</td>\n",
       "      <td>2</td>\n",
       "      <td>0</td>\n",
       "      <td>furnished</td>\n",
       "      <td>0</td>\n",
       "      <td>0</td>\n",
       "    </tr>\n",
       "    <tr>\n",
       "      <th>19</th>\n",
       "      <td>8855000</td>\n",
       "      <td>6420</td>\n",
       "      <td>3</td>\n",
       "      <td>2</td>\n",
       "      <td>2</td>\n",
       "      <td>1</td>\n",
       "      <td>0</td>\n",
       "      <td>0</td>\n",
       "      <td>0</td>\n",
       "      <td>1</td>\n",
       "      <td>1</td>\n",
       "      <td>1</td>\n",
       "      <td>semi-furnished</td>\n",
       "      <td>1</td>\n",
       "      <td>0</td>\n",
       "    </tr>\n",
       "    <tr>\n",
       "      <th>...</th>\n",
       "      <td>...</td>\n",
       "      <td>...</td>\n",
       "      <td>...</td>\n",
       "      <td>...</td>\n",
       "      <td>...</td>\n",
       "      <td>...</td>\n",
       "      <td>...</td>\n",
       "      <td>...</td>\n",
       "      <td>...</td>\n",
       "      <td>...</td>\n",
       "      <td>...</td>\n",
       "      <td>...</td>\n",
       "      <td>...</td>\n",
       "      <td>...</td>\n",
       "      <td>...</td>\n",
       "    </tr>\n",
       "    <tr>\n",
       "      <th>540</th>\n",
       "      <td>1820000</td>\n",
       "      <td>3000</td>\n",
       "      <td>2</td>\n",
       "      <td>1</td>\n",
       "      <td>1</td>\n",
       "      <td>1</td>\n",
       "      <td>0</td>\n",
       "      <td>1</td>\n",
       "      <td>0</td>\n",
       "      <td>0</td>\n",
       "      <td>2</td>\n",
       "      <td>0</td>\n",
       "      <td>unfurnished</td>\n",
       "      <td>0</td>\n",
       "      <td>1</td>\n",
       "    </tr>\n",
       "    <tr>\n",
       "      <th>541</th>\n",
       "      <td>1767150</td>\n",
       "      <td>2400</td>\n",
       "      <td>3</td>\n",
       "      <td>1</td>\n",
       "      <td>1</td>\n",
       "      <td>0</td>\n",
       "      <td>0</td>\n",
       "      <td>0</td>\n",
       "      <td>0</td>\n",
       "      <td>0</td>\n",
       "      <td>0</td>\n",
       "      <td>0</td>\n",
       "      <td>semi-furnished</td>\n",
       "      <td>1</td>\n",
       "      <td>0</td>\n",
       "    </tr>\n",
       "    <tr>\n",
       "      <th>542</th>\n",
       "      <td>1750000</td>\n",
       "      <td>3620</td>\n",
       "      <td>2</td>\n",
       "      <td>1</td>\n",
       "      <td>1</td>\n",
       "      <td>1</td>\n",
       "      <td>0</td>\n",
       "      <td>0</td>\n",
       "      <td>0</td>\n",
       "      <td>0</td>\n",
       "      <td>0</td>\n",
       "      <td>0</td>\n",
       "      <td>unfurnished</td>\n",
       "      <td>0</td>\n",
       "      <td>1</td>\n",
       "    </tr>\n",
       "    <tr>\n",
       "      <th>543</th>\n",
       "      <td>1750000</td>\n",
       "      <td>2910</td>\n",
       "      <td>3</td>\n",
       "      <td>1</td>\n",
       "      <td>1</td>\n",
       "      <td>0</td>\n",
       "      <td>0</td>\n",
       "      <td>0</td>\n",
       "      <td>0</td>\n",
       "      <td>0</td>\n",
       "      <td>0</td>\n",
       "      <td>0</td>\n",
       "      <td>furnished</td>\n",
       "      <td>0</td>\n",
       "      <td>0</td>\n",
       "    </tr>\n",
       "    <tr>\n",
       "      <th>544</th>\n",
       "      <td>1750000</td>\n",
       "      <td>3850</td>\n",
       "      <td>3</td>\n",
       "      <td>1</td>\n",
       "      <td>2</td>\n",
       "      <td>1</td>\n",
       "      <td>0</td>\n",
       "      <td>0</td>\n",
       "      <td>0</td>\n",
       "      <td>0</td>\n",
       "      <td>0</td>\n",
       "      <td>0</td>\n",
       "      <td>unfurnished</td>\n",
       "      <td>0</td>\n",
       "      <td>1</td>\n",
       "    </tr>\n",
       "  </tbody>\n",
       "</table>\n",
       "<p>517 rows × 15 columns</p>\n",
       "</div>"
      ],
      "text/plain": [
       "       price  area  bedrooms  bathrooms  stories  mainroad  guestroom  \\\n",
       "15   9100000  6000         4          1        2         1          0   \n",
       "16   9100000  6600         4          2        2         1          1   \n",
       "17   8960000  8500         3          2        4         1          0   \n",
       "18   8890000  4600         3          2        2         1          1   \n",
       "19   8855000  6420         3          2        2         1          0   \n",
       "..       ...   ...       ...        ...      ...       ...        ...   \n",
       "540  1820000  3000         2          1        1         1          0   \n",
       "541  1767150  2400         3          1        1         0          0   \n",
       "542  1750000  3620         2          1        1         1          0   \n",
       "543  1750000  2910         3          1        1         0          0   \n",
       "544  1750000  3850         3          1        2         1          0   \n",
       "\n",
       "     basement  hotwaterheating  airconditioning  parking  prefarea  \\\n",
       "15          1                0                0        2         0   \n",
       "16          1                0                1        1         1   \n",
       "17          0                0                1        2         0   \n",
       "18          0                0                1        2         0   \n",
       "19          0                0                1        1         1   \n",
       "..        ...              ...              ...      ...       ...   \n",
       "540         1                0                0        2         0   \n",
       "541         0                0                0        0         0   \n",
       "542         0                0                0        0         0   \n",
       "543         0                0                0        0         0   \n",
       "544         0                0                0        0         0   \n",
       "\n",
       "    furnishingstatus  semi-furnished  unfurnished  \n",
       "15    semi-furnished               1            0  \n",
       "16       unfurnished               0            1  \n",
       "17         furnished               0            0  \n",
       "18         furnished               0            0  \n",
       "19    semi-furnished               1            0  \n",
       "..               ...             ...          ...  \n",
       "540      unfurnished               0            1  \n",
       "541   semi-furnished               1            0  \n",
       "542      unfurnished               0            1  \n",
       "543        furnished               0            0  \n",
       "544      unfurnished               0            1  \n",
       "\n",
       "[517 rows x 15 columns]"
      ]
     },
     "execution_count": 16,
     "metadata": {},
     "output_type": "execute_result"
    }
   ],
   "source": [
    "df"
   ]
  },
  {
   "cell_type": "code",
   "execution_count": 17,
   "id": "a01fbc93",
   "metadata": {},
   "outputs": [],
   "source": [
    "# Drop 'furnishingstatus' as we have created the dummies for it\n",
    "\n",
    "df.drop(['furnishingstatus'], axis = 1, inplace = True)"
   ]
  },
  {
   "cell_type": "code",
   "execution_count": 18,
   "id": "e899a9f5",
   "metadata": {},
   "outputs": [
    {
     "data": {
      "text/html": [
       "<div>\n",
       "<style scoped>\n",
       "    .dataframe tbody tr th:only-of-type {\n",
       "        vertical-align: middle;\n",
       "    }\n",
       "\n",
       "    .dataframe tbody tr th {\n",
       "        vertical-align: top;\n",
       "    }\n",
       "\n",
       "    .dataframe thead th {\n",
       "        text-align: right;\n",
       "    }\n",
       "</style>\n",
       "<table border=\"1\" class=\"dataframe\">\n",
       "  <thead>\n",
       "    <tr style=\"text-align: right;\">\n",
       "      <th></th>\n",
       "      <th>price</th>\n",
       "      <th>area</th>\n",
       "      <th>bedrooms</th>\n",
       "      <th>bathrooms</th>\n",
       "      <th>stories</th>\n",
       "      <th>mainroad</th>\n",
       "      <th>guestroom</th>\n",
       "      <th>basement</th>\n",
       "      <th>hotwaterheating</th>\n",
       "      <th>airconditioning</th>\n",
       "      <th>parking</th>\n",
       "      <th>prefarea</th>\n",
       "      <th>semi-furnished</th>\n",
       "      <th>unfurnished</th>\n",
       "    </tr>\n",
       "  </thead>\n",
       "  <tbody>\n",
       "    <tr>\n",
       "      <th>15</th>\n",
       "      <td>9100000</td>\n",
       "      <td>6000</td>\n",
       "      <td>4</td>\n",
       "      <td>1</td>\n",
       "      <td>2</td>\n",
       "      <td>1</td>\n",
       "      <td>0</td>\n",
       "      <td>1</td>\n",
       "      <td>0</td>\n",
       "      <td>0</td>\n",
       "      <td>2</td>\n",
       "      <td>0</td>\n",
       "      <td>1</td>\n",
       "      <td>0</td>\n",
       "    </tr>\n",
       "    <tr>\n",
       "      <th>16</th>\n",
       "      <td>9100000</td>\n",
       "      <td>6600</td>\n",
       "      <td>4</td>\n",
       "      <td>2</td>\n",
       "      <td>2</td>\n",
       "      <td>1</td>\n",
       "      <td>1</td>\n",
       "      <td>1</td>\n",
       "      <td>0</td>\n",
       "      <td>1</td>\n",
       "      <td>1</td>\n",
       "      <td>1</td>\n",
       "      <td>0</td>\n",
       "      <td>1</td>\n",
       "    </tr>\n",
       "    <tr>\n",
       "      <th>17</th>\n",
       "      <td>8960000</td>\n",
       "      <td>8500</td>\n",
       "      <td>3</td>\n",
       "      <td>2</td>\n",
       "      <td>4</td>\n",
       "      <td>1</td>\n",
       "      <td>0</td>\n",
       "      <td>0</td>\n",
       "      <td>0</td>\n",
       "      <td>1</td>\n",
       "      <td>2</td>\n",
       "      <td>0</td>\n",
       "      <td>0</td>\n",
       "      <td>0</td>\n",
       "    </tr>\n",
       "    <tr>\n",
       "      <th>18</th>\n",
       "      <td>8890000</td>\n",
       "      <td>4600</td>\n",
       "      <td>3</td>\n",
       "      <td>2</td>\n",
       "      <td>2</td>\n",
       "      <td>1</td>\n",
       "      <td>1</td>\n",
       "      <td>0</td>\n",
       "      <td>0</td>\n",
       "      <td>1</td>\n",
       "      <td>2</td>\n",
       "      <td>0</td>\n",
       "      <td>0</td>\n",
       "      <td>0</td>\n",
       "    </tr>\n",
       "    <tr>\n",
       "      <th>19</th>\n",
       "      <td>8855000</td>\n",
       "      <td>6420</td>\n",
       "      <td>3</td>\n",
       "      <td>2</td>\n",
       "      <td>2</td>\n",
       "      <td>1</td>\n",
       "      <td>0</td>\n",
       "      <td>0</td>\n",
       "      <td>0</td>\n",
       "      <td>1</td>\n",
       "      <td>1</td>\n",
       "      <td>1</td>\n",
       "      <td>1</td>\n",
       "      <td>0</td>\n",
       "    </tr>\n",
       "  </tbody>\n",
       "</table>\n",
       "</div>"
      ],
      "text/plain": [
       "      price  area  bedrooms  bathrooms  stories  mainroad  guestroom  \\\n",
       "15  9100000  6000         4          1        2         1          0   \n",
       "16  9100000  6600         4          2        2         1          1   \n",
       "17  8960000  8500         3          2        4         1          0   \n",
       "18  8890000  4600         3          2        2         1          1   \n",
       "19  8855000  6420         3          2        2         1          0   \n",
       "\n",
       "    basement  hotwaterheating  airconditioning  parking  prefarea  \\\n",
       "15         1                0                0        2         0   \n",
       "16         1                0                1        1         1   \n",
       "17         0                0                1        2         0   \n",
       "18         0                0                1        2         0   \n",
       "19         0                0                1        1         1   \n",
       "\n",
       "    semi-furnished  unfurnished  \n",
       "15               1            0  \n",
       "16               0            1  \n",
       "17               0            0  \n",
       "18               0            0  \n",
       "19               1            0  "
      ]
     },
     "execution_count": 18,
     "metadata": {},
     "output_type": "execute_result"
    }
   ],
   "source": [
    "df.head()"
   ]
  },
  {
   "cell_type": "code",
   "execution_count": 19,
   "id": "a5d39d6d",
   "metadata": {
    "execution": {
     "iopub.execute_input": "2021-10-19T06:19:57.347396Z",
     "iopub.status.busy": "2021-10-19T06:19:57.346723Z",
     "iopub.status.idle": "2021-10-19T06:19:57.348491Z",
     "shell.execute_reply": "2021-10-19T06:19:57.348915Z",
     "shell.execute_reply.started": "2021-10-19T06:19:21.535820Z"
    },
    "papermill": {
     "duration": 0.022489,
     "end_time": "2021-10-19T06:19:57.349105",
     "exception": false,
     "start_time": "2021-10-19T06:19:57.326616",
     "status": "completed"
    },
    "tags": []
   },
   "outputs": [],
   "source": [
    "#define the input [x] and the output / prediction data\n",
    "#define the y first \n",
    "y=df['price']\n",
    "# now the input data \n",
    "x=df.drop(['price'], axis=1)"
   ]
  },
  {
   "cell_type": "code",
   "execution_count": 20,
   "id": "558d6832",
   "metadata": {
    "execution": {
     "iopub.execute_input": "2021-10-19T06:19:57.381573Z",
     "iopub.status.busy": "2021-10-19T06:19:57.380823Z",
     "iopub.status.idle": "2021-10-19T06:19:57.386871Z",
     "shell.execute_reply": "2021-10-19T06:19:57.386357Z",
     "shell.execute_reply.started": "2021-10-19T06:19:21.543394Z"
    },
    "papermill": {
     "duration": 0.023853,
     "end_time": "2021-10-19T06:19:57.387031",
     "exception": false,
     "start_time": "2021-10-19T06:19:57.363178",
     "status": "completed"
    },
    "tags": []
   },
   "outputs": [
    {
     "data": {
      "text/plain": [
       "((517, 13), (517,))"
      ]
     },
     "execution_count": 20,
     "metadata": {},
     "output_type": "execute_result"
    }
   ],
   "source": [
    "x.shape , y.shape"
   ]
  },
  {
   "cell_type": "code",
   "execution_count": 21,
   "id": "1a054c54",
   "metadata": {
    "execution": {
     "iopub.execute_input": "2021-10-19T06:19:57.422614Z",
     "iopub.status.busy": "2021-10-19T06:19:57.421862Z",
     "iopub.status.idle": "2021-10-19T06:19:57.426134Z",
     "shell.execute_reply": "2021-10-19T06:19:57.425621Z",
     "shell.execute_reply.started": "2021-10-19T06:19:21.561855Z"
    },
    "papermill": {
     "duration": 0.024783,
     "end_time": "2021-10-19T06:19:57.426271",
     "exception": false,
     "start_time": "2021-10-19T06:19:57.401488",
     "status": "completed"
    },
    "tags": []
   },
   "outputs": [
    {
     "data": {
      "text/plain": [
       "area               int64\n",
       "bedrooms           int64\n",
       "bathrooms          int64\n",
       "stories            int64\n",
       "mainroad           int64\n",
       "guestroom          int64\n",
       "basement           int64\n",
       "hotwaterheating    int64\n",
       "airconditioning    int64\n",
       "parking            int64\n",
       "prefarea           int64\n",
       "semi-furnished     uint8\n",
       "unfurnished        uint8\n",
       "dtype: object"
      ]
     },
     "execution_count": 21,
     "metadata": {},
     "output_type": "execute_result"
    }
   ],
   "source": [
    "x.dtypes"
   ]
  },
  {
   "cell_type": "code",
   "execution_count": 22,
   "id": "d11e37d6",
   "metadata": {},
   "outputs": [
    {
     "data": {
      "image/png": "[encoded data removed]",
      "text/plain": [
       "<Figure size 1152x720 with 2 Axes>"
      ]
     },
     "metadata": {
      "needs_background": "light"
     },
     "output_type": "display_data"
    }
   ],
   "source": [
    "# Let's check the correlation coefficients to see which variables are highly correlated\n",
    "\n",
    "plt.figure(figsize = (16, 10))\n",
    "sns.heatmap(df.corr(), annot = True, cmap=\"YlGnBu\")\n",
    "plt.show()"
   ]
  },
  {
   "cell_type": "code",
   "execution_count": 23,
   "id": "5aaa3d1a",
   "metadata": {
    "execution": {
     "iopub.execute_input": "2021-10-19T06:19:57.461237Z",
     "iopub.status.busy": "2021-10-19T06:19:57.459274Z",
     "iopub.status.idle": "2021-10-19T06:19:57.471153Z",
     "shell.execute_reply": "2021-10-19T06:19:57.471630Z",
     "shell.execute_reply.started": "2021-10-19T06:19:21.577704Z"
    },
    "papermill": {
     "duration": 0.03082,
     "end_time": "2021-10-19T06:19:57.471797",
     "exception": false,
     "start_time": "2021-10-19T06:19:57.440977",
     "status": "completed"
    },
    "tags": []
   },
   "outputs": [
    {
     "data": {
      "text/html": [
       "<div>\n",
       "<style scoped>\n",
       "    .dataframe tbody tr th:only-of-type {\n",
       "        vertical-align: middle;\n",
       "    }\n",
       "\n",
       "    .dataframe tbody tr th {\n",
       "        vertical-align: top;\n",
       "    }\n",
       "\n",
       "    .dataframe thead th {\n",
       "        text-align: right;\n",
       "    }\n",
       "</style>\n",
       "<table border=\"1\" class=\"dataframe\">\n",
       "  <thead>\n",
       "    <tr style=\"text-align: right;\">\n",
       "      <th></th>\n",
       "      <th>price</th>\n",
       "      <th>area</th>\n",
       "      <th>bedrooms</th>\n",
       "      <th>bathrooms</th>\n",
       "      <th>stories</th>\n",
       "      <th>mainroad</th>\n",
       "      <th>guestroom</th>\n",
       "      <th>basement</th>\n",
       "      <th>hotwaterheating</th>\n",
       "      <th>airconditioning</th>\n",
       "      <th>parking</th>\n",
       "      <th>prefarea</th>\n",
       "      <th>semi-furnished</th>\n",
       "      <th>unfurnished</th>\n",
       "    </tr>\n",
       "  </thead>\n",
       "  <tbody>\n",
       "    <tr>\n",
       "      <th>price</th>\n",
       "      <td>1.000000</td>\n",
       "      <td>0.533186</td>\n",
       "      <td>0.335328</td>\n",
       "      <td>0.466483</td>\n",
       "      <td>0.446839</td>\n",
       "      <td>0.307185</td>\n",
       "      <td>0.303994</td>\n",
       "      <td>0.190117</td>\n",
       "      <td>0.075979</td>\n",
       "      <td>0.471706</td>\n",
       "      <td>0.321058</td>\n",
       "      <td>0.280808</td>\n",
       "      <td>0.085766</td>\n",
       "      <td>-0.278463</td>\n",
       "    </tr>\n",
       "    <tr>\n",
       "      <th>area</th>\n",
       "      <td>0.533186</td>\n",
       "      <td>1.000000</td>\n",
       "      <td>0.127745</td>\n",
       "      <td>0.171528</td>\n",
       "      <td>0.109877</td>\n",
       "      <td>0.302116</td>\n",
       "      <td>0.213826</td>\n",
       "      <td>0.042227</td>\n",
       "      <td>-0.020489</td>\n",
       "      <td>0.264680</td>\n",
       "      <td>0.357276</td>\n",
       "      <td>0.208014</td>\n",
       "      <td>0.010588</td>\n",
       "      <td>-0.121219</td>\n",
       "    </tr>\n",
       "    <tr>\n",
       "      <th>bedrooms</th>\n",
       "      <td>0.335328</td>\n",
       "      <td>0.127745</td>\n",
       "      <td>1.000000</td>\n",
       "      <td>0.346230</td>\n",
       "      <td>0.406684</td>\n",
       "      <td>-0.025775</td>\n",
       "      <td>0.078443</td>\n",
       "      <td>0.102261</td>\n",
       "      <td>0.042953</td>\n",
       "      <td>0.150378</td>\n",
       "      <td>0.105561</td>\n",
       "      <td>0.061014</td>\n",
       "      <td>0.056241</td>\n",
       "      <td>-0.122155</td>\n",
       "    </tr>\n",
       "    <tr>\n",
       "      <th>bathrooms</th>\n",
       "      <td>0.466483</td>\n",
       "      <td>0.171528</td>\n",
       "      <td>0.346230</td>\n",
       "      <td>1.000000</td>\n",
       "      <td>0.311314</td>\n",
       "      <td>0.024614</td>\n",
       "      <td>0.152035</td>\n",
       "      <td>0.124691</td>\n",
       "      <td>0.046486</td>\n",
       "      <td>0.175634</td>\n",
       "      <td>0.127102</td>\n",
       "      <td>0.027817</td>\n",
       "      <td>0.024132</td>\n",
       "      <td>-0.129211</td>\n",
       "    </tr>\n",
       "    <tr>\n",
       "      <th>stories</th>\n",
       "      <td>0.446839</td>\n",
       "      <td>0.109877</td>\n",
       "      <td>0.406684</td>\n",
       "      <td>0.311314</td>\n",
       "      <td>1.000000</td>\n",
       "      <td>0.120759</td>\n",
       "      <td>0.034301</td>\n",
       "      <td>-0.166031</td>\n",
       "      <td>0.027834</td>\n",
       "      <td>0.293854</td>\n",
       "      <td>0.022043</td>\n",
       "      <td>0.021529</td>\n",
       "      <td>-0.004171</td>\n",
       "      <td>-0.085689</td>\n",
       "    </tr>\n",
       "    <tr>\n",
       "      <th>mainroad</th>\n",
       "      <td>0.307185</td>\n",
       "      <td>0.302116</td>\n",
       "      <td>-0.025775</td>\n",
       "      <td>0.024614</td>\n",
       "      <td>0.120759</td>\n",
       "      <td>1.000000</td>\n",
       "      <td>0.095201</td>\n",
       "      <td>0.041789</td>\n",
       "      <td>-0.019471</td>\n",
       "      <td>0.102198</td>\n",
       "      <td>0.195635</td>\n",
       "      <td>0.193613</td>\n",
       "      <td>0.011257</td>\n",
       "      <td>-0.125560</td>\n",
       "    </tr>\n",
       "    <tr>\n",
       "      <th>guestroom</th>\n",
       "      <td>0.303994</td>\n",
       "      <td>0.213826</td>\n",
       "      <td>0.078443</td>\n",
       "      <td>0.152035</td>\n",
       "      <td>0.034301</td>\n",
       "      <td>0.095201</td>\n",
       "      <td>1.000000</td>\n",
       "      <td>0.373599</td>\n",
       "      <td>-0.022922</td>\n",
       "      <td>0.139242</td>\n",
       "      <td>0.041133</td>\n",
       "      <td>0.184999</td>\n",
       "      <td>0.007601</td>\n",
       "      <td>-0.108383</td>\n",
       "    </tr>\n",
       "    <tr>\n",
       "      <th>basement</th>\n",
       "      <td>0.190117</td>\n",
       "      <td>0.042227</td>\n",
       "      <td>0.102261</td>\n",
       "      <td>0.124691</td>\n",
       "      <td>-0.166031</td>\n",
       "      <td>0.041789</td>\n",
       "      <td>0.373599</td>\n",
       "      <td>1.000000</td>\n",
       "      <td>-0.012428</td>\n",
       "      <td>0.034796</td>\n",
       "      <td>0.038480</td>\n",
       "      <td>0.229180</td>\n",
       "      <td>0.054119</td>\n",
       "      <td>-0.108168</td>\n",
       "    </tr>\n",
       "    <tr>\n",
       "      <th>hotwaterheating</th>\n",
       "      <td>0.075979</td>\n",
       "      <td>-0.020489</td>\n",
       "      <td>0.042953</td>\n",
       "      <td>0.046486</td>\n",
       "      <td>0.027834</td>\n",
       "      <td>-0.019471</td>\n",
       "      <td>-0.022922</td>\n",
       "      <td>-0.012428</td>\n",
       "      <td>1.000000</td>\n",
       "      <td>-0.119731</td>\n",
       "      <td>0.052510</td>\n",
       "      <td>-0.041079</td>\n",
       "      <td>0.074875</td>\n",
       "      <td>-0.049550</td>\n",
       "    </tr>\n",
       "    <tr>\n",
       "      <th>airconditioning</th>\n",
       "      <td>0.471706</td>\n",
       "      <td>0.264680</td>\n",
       "      <td>0.150378</td>\n",
       "      <td>0.175634</td>\n",
       "      <td>0.293854</td>\n",
       "      <td>0.102198</td>\n",
       "      <td>0.139242</td>\n",
       "      <td>0.034796</td>\n",
       "      <td>-0.119731</td>\n",
       "      <td>1.000000</td>\n",
       "      <td>0.129590</td>\n",
       "      <td>0.087044</td>\n",
       "      <td>-0.043557</td>\n",
       "      <td>-0.086983</td>\n",
       "    </tr>\n",
       "    <tr>\n",
       "      <th>parking</th>\n",
       "      <td>0.321058</td>\n",
       "      <td>0.357276</td>\n",
       "      <td>0.105561</td>\n",
       "      <td>0.127102</td>\n",
       "      <td>0.022043</td>\n",
       "      <td>0.195635</td>\n",
       "      <td>0.041133</td>\n",
       "      <td>0.038480</td>\n",
       "      <td>0.052510</td>\n",
       "      <td>0.129590</td>\n",
       "      <td>1.000000</td>\n",
       "      <td>0.054487</td>\n",
       "      <td>0.048622</td>\n",
       "      <td>-0.137828</td>\n",
       "    </tr>\n",
       "    <tr>\n",
       "      <th>prefarea</th>\n",
       "      <td>0.280808</td>\n",
       "      <td>0.208014</td>\n",
       "      <td>0.061014</td>\n",
       "      <td>0.027817</td>\n",
       "      <td>0.021529</td>\n",
       "      <td>0.193613</td>\n",
       "      <td>0.184999</td>\n",
       "      <td>0.229180</td>\n",
       "      <td>-0.041079</td>\n",
       "      <td>0.087044</td>\n",
       "      <td>0.054487</td>\n",
       "      <td>1.000000</td>\n",
       "      <td>-0.015018</td>\n",
       "      <td>-0.058652</td>\n",
       "    </tr>\n",
       "    <tr>\n",
       "      <th>semi-furnished</th>\n",
       "      <td>0.085766</td>\n",
       "      <td>0.010588</td>\n",
       "      <td>0.056241</td>\n",
       "      <td>0.024132</td>\n",
       "      <td>-0.004171</td>\n",
       "      <td>0.011257</td>\n",
       "      <td>0.007601</td>\n",
       "      <td>0.054119</td>\n",
       "      <td>0.074875</td>\n",
       "      <td>-0.043557</td>\n",
       "      <td>0.048622</td>\n",
       "      <td>-0.015018</td>\n",
       "      <td>1.000000</td>\n",
       "      <td>-0.603562</td>\n",
       "    </tr>\n",
       "    <tr>\n",
       "      <th>unfurnished</th>\n",
       "      <td>-0.278463</td>\n",
       "      <td>-0.121219</td>\n",
       "      <td>-0.122155</td>\n",
       "      <td>-0.129211</td>\n",
       "      <td>-0.085689</td>\n",
       "      <td>-0.125560</td>\n",
       "      <td>-0.108383</td>\n",
       "      <td>-0.108168</td>\n",
       "      <td>-0.049550</td>\n",
       "      <td>-0.086983</td>\n",
       "      <td>-0.137828</td>\n",
       "      <td>-0.058652</td>\n",
       "      <td>-0.603562</td>\n",
       "      <td>1.000000</td>\n",
       "    </tr>\n",
       "  </tbody>\n",
       "</table>\n",
       "</div>"
      ],
      "text/plain": [
       "                    price      area  bedrooms  bathrooms   stories  mainroad  \\\n",
       "price            1.000000  0.533186  0.335328   0.466483  0.446839  0.307185   \n",
       "area             0.533186  1.000000  0.127745   0.171528  0.109877  0.302116   \n",
       "bedrooms         0.335328  0.127745  1.000000   0.346230  0.406684 -0.025775   \n",
       "bathrooms        0.466483  0.171528  0.346230   1.000000  0.311314  0.024614   \n",
       "stories          0.446839  0.109877  0.406684   0.311314  1.000000  0.120759   \n",
       "mainroad         0.307185  0.302116 -0.025775   0.024614  0.120759  1.000000   \n",
       "guestroom        0.303994  0.213826  0.078443   0.152035  0.034301  0.095201   \n",
       "basement         0.190117  0.042227  0.102261   0.124691 -0.166031  0.041789   \n",
       "hotwaterheating  0.075979 -0.020489  0.042953   0.046486  0.027834 -0.019471   \n",
       "airconditioning  0.471706  0.264680  0.150378   0.175634  0.293854  0.102198   \n",
       "parking          0.321058  0.357276  0.105561   0.127102  0.022043  0.195635   \n",
       "prefarea         0.280808  0.208014  0.061014   0.027817  0.021529  0.193613   \n",
       "semi-furnished   0.085766  0.010588  0.056241   0.024132 -0.004171  0.011257   \n",
       "unfurnished     -0.278463 -0.121219 -0.122155  -0.129211 -0.085689 -0.125560   \n",
       "\n",
       "                 guestroom  basement  hotwaterheating  airconditioning  \\\n",
       "price             0.303994  0.190117         0.075979         0.471706   \n",
       "area              0.213826  0.042227        -0.020489         0.264680   \n",
       "bedrooms          0.078443  0.102261         0.042953         0.150378   \n",
       "bathrooms         0.152035  0.124691         0.046486         0.175634   \n",
       "stories           0.034301 -0.166031         0.027834         0.293854   \n",
       "mainroad          0.095201  0.041789        -0.019471         0.102198   \n",
       "guestroom         1.000000  0.373599        -0.022922         0.139242   \n",
       "basement          0.373599  1.000000        -0.012428         0.034796   \n",
       "hotwaterheating  -0.022922 -0.012428         1.000000        -0.119731   \n",
       "airconditioning   0.139242  0.034796        -0.119731         1.000000   \n",
       "parking           0.041133  0.038480         0.052510         0.129590   \n",
       "prefarea          0.184999  0.229180        -0.041079         0.087044   \n",
       "semi-furnished    0.007601  0.054119         0.074875        -0.043557   \n",
       "unfurnished      -0.108383 -0.108168        -0.049550        -0.086983   \n",
       "\n",
       "                  parking  prefarea  semi-furnished  unfurnished  \n",
       "price            0.321058  0.280808        0.085766    -0.278463  \n",
       "area             0.357276  0.208014        0.010588    -0.121219  \n",
       "bedrooms         0.105561  0.061014        0.056241    -0.122155  \n",
       "bathrooms        0.127102  0.027817        0.024132    -0.129211  \n",
       "stories          0.022043  0.021529       -0.004171    -0.085689  \n",
       "mainroad         0.195635  0.193613        0.011257    -0.125560  \n",
       "guestroom        0.041133  0.184999        0.007601    -0.108383  \n",
       "basement         0.038480  0.229180        0.054119    -0.108168  \n",
       "hotwaterheating  0.052510 -0.041079        0.074875    -0.049550  \n",
       "airconditioning  0.129590  0.087044       -0.043557    -0.086983  \n",
       "parking          1.000000  0.054487        0.048622    -0.137828  \n",
       "prefarea         0.054487  1.000000       -0.015018    -0.058652  \n",
       "semi-furnished   0.048622 -0.015018        1.000000    -0.603562  \n",
       "unfurnished     -0.137828 -0.058652       -0.603562     1.000000  "
      ]
     },
     "execution_count": 23,
     "metadata": {},
     "output_type": "execute_result"
    }
   ],
   "source": [
    "df.corr()"
   ]
  },
  {
   "cell_type": "code",
   "execution_count": 24,
   "id": "9139baaf",
   "metadata": {
    "execution": {
     "iopub.execute_input": "2021-10-19T06:19:58.717084Z",
     "iopub.status.busy": "2021-10-19T06:19:58.716499Z",
     "iopub.status.idle": "2021-10-19T06:19:58.723367Z",
     "shell.execute_reply": "2021-10-19T06:19:58.723851Z",
     "shell.execute_reply.started": "2021-10-19T06:19:21.613439Z"
    },
    "papermill": {
     "duration": 0.024938,
     "end_time": "2021-10-19T06:19:58.724036",
     "exception": false,
     "start_time": "2021-10-19T06:19:58.699098",
     "status": "completed"
    },
    "tags": []
   },
   "outputs": [],
   "source": [
    "#now lets split the data into train and test \n",
    "from sklearn.model_selection import train_test_split\n",
    "x_train , x_test , y_train, y_test = train_test_split(x,y,test_size=0.3, random_state=50)"
   ]
  },
  {
   "cell_type": "code",
   "execution_count": 25,
   "id": "4a5ff91b",
   "metadata": {
    "execution": {
     "iopub.execute_input": "2021-10-19T06:19:58.756982Z",
     "iopub.status.busy": "2021-10-19T06:19:58.756398Z",
     "iopub.status.idle": "2021-10-19T06:19:58.761340Z",
     "shell.execute_reply": "2021-10-19T06:19:58.761852Z",
     "shell.execute_reply.started": "2021-10-19T06:19:21.629105Z"
    },
    "papermill": {
     "duration": 0.022955,
     "end_time": "2021-10-19T06:19:58.762028",
     "exception": false,
     "start_time": "2021-10-19T06:19:58.739073",
     "status": "completed"
    },
    "tags": []
   },
   "outputs": [
    {
     "data": {
      "text/plain": [
       "((361, 13), (156, 13), (361,), (156,))"
      ]
     },
     "execution_count": 25,
     "metadata": {},
     "output_type": "execute_result"
    }
   ],
   "source": [
    "#lets check the shape of the data\n",
    "x_train.shape , x_test.shape , y_train.shape , y_test.shape"
   ]
  },
  {
   "cell_type": "code",
   "execution_count": 26,
   "id": "f5f2895f",
   "metadata": {
    "execution": {
     "iopub.execute_input": "2021-10-19T06:19:58.796057Z",
     "iopub.status.busy": "2021-10-19T06:19:58.795380Z",
     "iopub.status.idle": "2021-10-19T06:19:58.808584Z",
     "shell.execute_reply": "2021-10-19T06:19:58.809118Z",
     "shell.execute_reply.started": "2021-10-19T06:19:21.639523Z"
    },
    "papermill": {
     "duration": 0.031999,
     "end_time": "2021-10-19T06:19:58.809298",
     "exception": false,
     "start_time": "2021-10-19T06:19:58.777299",
     "status": "completed"
    },
    "tags": []
   },
   "outputs": [
    {
     "data": {
      "text/plain": [
       "(array([[-0.78572751,  1.43639672, -0.57323771,  0.26295561,  0.42395585,\n",
       "         -0.4464701 , -0.72333032, -0.21535276, -0.64904533,  1.53367493,\n",
       "         -0.50346025, -0.83356804, -0.74118569],\n",
       "        [ 2.21694382,  0.0754014 ,  1.49615042,  0.26295561,  0.42395585,\n",
       "         -0.4464701 , -0.72333032, -0.21535276,  1.54072443,  1.53367493,\n",
       "         -0.50346025, -0.83356804, -0.74118569],\n",
       "        [ 0.60796522,  0.0754014 ,  3.56553856,  0.26295561,  0.42395585,\n",
       "          2.23979166,  1.38249424, -0.21535276, -0.64904533,  0.37539742,\n",
       "         -0.50346025, -0.83356804,  1.34918957],\n",
       "        [-0.71207708,  0.0754014 , -0.57323771,  0.26295561,  0.42395585,\n",
       "         -0.4464701 , -0.72333032, -0.21535276, -0.64904533,  1.53367493,\n",
       "         -0.50346025,  1.19966211, -0.74118569],\n",
       "        [-0.77439667,  0.0754014 , -0.57323771, -0.89469044,  0.42395585,\n",
       "         -0.4464701 , -0.72333032, -0.21535276, -0.64904533, -0.78288009,\n",
       "          1.98625413,  1.19966211, -0.74118569]]),\n",
       " array([[-1.25024682, -1.29594874, -0.53782543, -0.97995789, -2.46797672,\n",
       "         -0.50800051, -0.73793933, -0.2       , -0.70710678,  0.50308503,\n",
       "         -0.57735027, -0.86764566, -0.65665262],\n",
       "        [-0.50482948, -1.29594874,  1.85933936, -0.97995789, -2.46797672,\n",
       "          1.96850197,  1.35512495, -0.2       , -0.70710678,  0.50308503,\n",
       "         -0.57735027, -0.86764566,  1.52287522],\n",
       "        [ 0.03457357,  1.47347597, -0.53782543,  1.33630621, -2.46797672,\n",
       "         -0.50800051, -0.73793933, -0.2       , -0.70710678, -0.76274182,\n",
       "         -0.57735027,  1.15254423, -0.65665262],\n",
       "        [ 0.55514735, -1.29594874, -0.53782543, -0.97995789,  0.40519021,\n",
       "         -0.50800051, -0.73793933, -0.2       , -0.70710678,  0.50308503,\n",
       "         -0.57735027, -0.86764566, -0.65665262],\n",
       "        [ 0.94280867,  0.08876361, -0.53782543, -0.97995789,  0.40519021,\n",
       "          1.96850197,  1.35512495, -0.2       , -0.70710678, -0.76274182,\n",
       "          1.73205081, -0.86764566, -0.65665262]]))"
      ]
     },
     "execution_count": 26,
     "metadata": {},
     "output_type": "execute_result"
    }
   ],
   "source": [
    "#lets scale the data\n",
    "from sklearn.preprocessing import StandardScaler\n",
    "scaler = StandardScaler()\n",
    "x_train=scaler.fit_transform(x_train)\n",
    "x_test=scaler.fit_transform(x_test)\n",
    "\n",
    "x_train[:5] , x_test[:5]"
   ]
  },
  {
   "cell_type": "code",
   "execution_count": 27,
   "id": "30925cd4",
   "metadata": {
    "papermill": {
     "duration": 0.016949,
     "end_time": "2021-10-19T06:19:59.255193",
     "exception": false,
     "start_time": "2021-10-19T06:19:59.238244",
     "status": "completed"
    },
    "tags": []
   },
   "outputs": [],
   "source": [
    "from sklearn.linear_model import Lasso\n",
    "sk_model = Lasso(alpha=10)"
   ]
  },
  {
   "cell_type": "code",
   "execution_count": 28,
   "id": "a55d56f7",
   "metadata": {},
   "outputs": [
    {
     "data": {
      "text/html": [
       "<style>#sk-container-id-1 {color: black;background-color: white;}#sk-container-id-1 pre{padding: 0;}#sk-container-id-1 div.sk-toggleable {background-color: white;}#sk-container-id-1 label.sk-toggleable__label {cursor: pointer;display: block;width: 100%;margin-bottom: 0;padding: 0.3em;box-sizing: border-box;text-align: center;}#sk-container-id-1 label.sk-toggleable__label-arrow:before {content: \"▸\";float: left;margin-right: 0.25em;color: #696969;}#sk-container-id-1 label.sk-toggleable__label-arrow:hover:before {color: black;}#sk-container-id-1 div.sk-estimator:hover label.sk-toggleable__label-arrow:before {color: black;}#sk-container-id-1 div.sk-toggleable__content {max-height: 0;max-width: 0;overflow: hidden;text-align: left;background-color: #f0f8ff;}#sk-container-id-1 div.sk-toggleable__content pre {margin: 0.2em;color: black;border-radius: 0.25em;background-color: #f0f8ff;}#sk-container-id-1 input.sk-toggleable__control:checked~div.sk-toggleable__content {max-height: 200px;max-width: 100%;overflow: auto;}#sk-container-id-1 input.sk-toggleable__control:checked~label.sk-toggleable__label-arrow:before {content: \"▾\";}#sk-container-id-1 div.sk-estimator input.sk-toggleable__control:checked~label.sk-toggleable__label {background-color: #d4ebff;}#sk-container-id-1 div.sk-label input.sk-toggleable__control:checked~label.sk-toggleable__label {background-color: #d4ebff;}#sk-container-id-1 input.sk-hidden--visually {border: 0;clip: rect(1px 1px 1px 1px);clip: rect(1px, 1px, 1px, 1px);height: 1px;margin: -1px;overflow: hidden;padding: 0;position: absolute;width: 1px;}#sk-container-id-1 div.sk-estimator {font-family: monospace;background-color: #f0f8ff;border: 1px dotted black;border-radius: 0.25em;box-sizing: border-box;margin-bottom: 0.5em;}#sk-container-id-1 div.sk-estimator:hover {background-color: #d4ebff;}#sk-container-id-1 div.sk-parallel-item::after {content: \"\";width: 100%;border-bottom: 1px solid gray;flex-grow: 1;}#sk-container-id-1 div.sk-label:hover label.sk-toggleable__label {background-color: #d4ebff;}#sk-container-id-1 div.sk-serial::before {content: \"\";position: absolute;border-left: 1px solid gray;box-sizing: border-box;top: 0;bottom: 0;left: 50%;z-index: 0;}#sk-container-id-1 div.sk-serial {display: flex;flex-direction: column;align-items: center;background-color: white;padding-right: 0.2em;padding-left: 0.2em;position: relative;}#sk-container-id-1 div.sk-item {position: relative;z-index: 1;}#sk-container-id-1 div.sk-parallel {display: flex;align-items: stretch;justify-content: center;background-color: white;position: relative;}#sk-container-id-1 div.sk-item::before, #sk-container-id-1 div.sk-parallel-item::before {content: \"\";position: absolute;border-left: 1px solid gray;box-sizing: border-box;top: 0;bottom: 0;left: 50%;z-index: -1;}#sk-container-id-1 div.sk-parallel-item {display: flex;flex-direction: column;z-index: 1;position: relative;background-color: white;}#sk-container-id-1 div.sk-parallel-item:first-child::after {align-self: flex-end;width: 50%;}#sk-container-id-1 div.sk-parallel-item:last-child::after {align-self: flex-start;width: 50%;}#sk-container-id-1 div.sk-parallel-item:only-child::after {width: 0;}#sk-container-id-1 div.sk-dashed-wrapped {border: 1px dashed gray;margin: 0 0.4em 0.5em 0.4em;box-sizing: border-box;padding-bottom: 0.4em;background-color: white;}#sk-container-id-1 div.sk-label label {font-family: monospace;font-weight: bold;display: inline-block;line-height: 1.2em;}#sk-container-id-1 div.sk-label-container {text-align: center;}#sk-container-id-1 div.sk-container {/* jupyter's `normalize.less` sets `[hidden] { display: none; }` but bootstrap.min.css set `[hidden] { display: none !important; }` so we also need the `!important` here to be able to override the default hidden behavior on the sphinx rendered scikit-learn.org. See: https://github.com/scikit-learn/scikit-learn/issues/21755 */display: inline-block !important;position: relative;}#sk-container-id-1 div.sk-text-repr-fallback {display: none;}</style><div id=\"sk-container-id-1\" class=\"sk-top-container\"><div class=\"sk-text-repr-fallback\"><pre>Lasso(alpha=10)</pre><b>In a Jupyter environment, please rerun this cell to show the HTML representation or trust the notebook. <br />On GitHub, the HTML representation is unable to render, please try loading this page with nbviewer.org.</b></div><div class=\"sk-container\" hidden><div class=\"sk-item\"><div class=\"sk-estimator sk-toggleable\"><input class=\"sk-toggleable__control sk-hidden--visually\" id=\"sk-estimator-id-1\" type=\"checkbox\" checked><label for=\"sk-estimator-id-1\" class=\"sk-toggleable__label sk-toggleable__label-arrow\">Lasso</label><div class=\"sk-toggleable__content\"><pre>Lasso(alpha=10)</pre></div></div></div></div></div>"
      ],
      "text/plain": [
       "Lasso(alpha=10)"
      ]
     },
     "execution_count": 28,
     "metadata": {},
     "output_type": "execute_result"
    }
   ],
   "source": [
    "sk_model.fit(x_train, y_train)"
   ]
  },
  {
   "cell_type": "code",
   "execution_count": 29,
   "id": "2b989d82",
   "metadata": {},
   "outputs": [
    {
     "data": {
      "text/plain": [
       "65.7661771496161"
      ]
     },
     "execution_count": 29,
     "metadata": {},
     "output_type": "execute_result"
    }
   ],
   "source": [
    "sk_model.score(x_train, y_train)*100"
   ]
  },
  {
   "cell_type": "code",
   "execution_count": 30,
   "id": "1235cbc7",
   "metadata": {},
   "outputs": [],
   "source": [
    "sk_test_data_prediction = sk_model.predict(x_test)"
   ]
  },
  {
   "cell_type": "code",
   "execution_count": 31,
   "id": "13195973",
   "metadata": {},
   "outputs": [
    {
     "name": "stdout",
     "output_type": "stream",
     "text": [
      "R squared error :  65.66958343457405\n",
      "Mean Absolute Error :  712079.6632740885\n"
     ]
    }
   ],
   "source": [
    "from sklearn import metrics\n",
    "\n",
    "# R squared error\n",
    "score_1 = metrics.r2_score(y_test, sk_test_data_prediction)\n",
    "\n",
    "# Mean Absolute Error\n",
    "score_2 = metrics.mean_absolute_error(y_test, sk_test_data_prediction)\n",
    "\n",
    "print(\"R squared error : \", score_1*100)\n",
    "print('Mean Absolute Error : ', score_2)"
   ]
  },
  {
   "cell_type": "code",
   "execution_count": 32,
   "id": "8b796e0e",
   "metadata": {},
   "outputs": [],
   "source": [
    "from sklearn.linear_model import LassoCV\n",
    "from sklearn.model_selection import RepeatedKFold\n",
    "from numpy import arange"
   ]
  },
  {
   "cell_type": "code",
   "execution_count": 33,
   "id": "d0f7ab2c",
   "metadata": {},
   "outputs": [
    {
     "name": "stdout",
     "output_type": "stream",
     "text": [
      "0.98\n"
     ]
    }
   ],
   "source": [
    "#define cross-validation method to evaluate model\n",
    "cv = RepeatedKFold(n_splits=10, n_repeats=3, random_state=1)\n",
    "\n",
    "#define model\n",
    "model = LassoCV(alphas=arange(0, 1, 0.01), cv=cv, n_jobs=-1)\n",
    "\n",
    "#fit model\n",
    "model.fit(x_train, y_train)\n",
    "\n",
    "#display lambda that produced the lowest test MSE\n",
    "print(model.alpha_)"
   ]
  },
  {
   "cell_type": "code",
   "execution_count": 34,
   "id": "070e56d9",
   "metadata": {},
   "outputs": [
    {
     "data": {
      "text/plain": [
       "array([2470318.8540946 , 4215210.44192841, 3854915.52354881,\n",
       "       3916453.01209303, 5078050.64947196, 2268996.00318325,\n",
       "       3662946.08906068, 4129739.32668712, 6177775.02227286,\n",
       "       3855251.68463097, 4112594.20880016, 3371822.35191007,\n",
       "       3079963.66082446, 5859591.4195754 , 2939754.94552162,\n",
       "       3034690.55776529, 5924761.35460168, 7109719.49556555,\n",
       "       5306633.20959246, 2962576.79416949, 3215145.02229969,\n",
       "       4429550.35479715, 7778099.06836089, 4419483.07325347,\n",
       "       2571445.57246437, 5244131.07775467, 4441175.58935626,\n",
       "       7215661.60734932, 3855251.68463097, 4384519.81739528,\n",
       "       3902167.9803384 , 5520884.3928003 , 3638280.27798643,\n",
       "       6084269.00946225, 4644038.11553827, 4187262.07066968,\n",
       "       3627178.57796555, 4257680.5156118 , 4077874.88480193,\n",
       "       2219796.54685175, 5900609.81434676, 5566748.91731952,\n",
       "       5065394.7541903 , 3536359.36711411, 4167901.67845128,\n",
       "       6100115.39484492, 3199413.63228867, 6394573.79437052,\n",
       "       5321371.30960661, 4873269.43634498, 3669703.12753059,\n",
       "       3896134.6304295 , 4710994.54634102, 3795547.60349647,\n",
       "       6941513.6843925 , 2884911.41132409, 5664276.60433541,\n",
       "       5402774.70609286, 3020464.45874384, 5745083.42708145,\n",
       "       7077695.76815797, 7307452.51325996, 3251119.61090881,\n",
       "       5427638.76333721, 7734593.91745771, 4042732.30302443,\n",
       "       5857497.81755657, 4596416.91399484, 2598385.87107403,\n",
       "       2206912.50016272, 3102777.10693791, 6926811.73306915,\n",
       "       4139196.58491641, 4737055.845769  , 6395344.87081277,\n",
       "       3731384.73376854, 6054125.61836783, 3626725.17136917,\n",
       "       2745648.03454313, 6193430.57333136, 6767883.5315182 ,\n",
       "       3541681.65457076, 2647553.91957779, 4088860.94508098,\n",
       "       3223020.97926902, 2834575.00994181, 6921639.89176311,\n",
       "       6670376.22570705, 4588581.40499357, 6829316.81339618,\n",
       "       4896622.86401435, 5319306.65661706, 4122364.2731903 ,\n",
       "       3608353.14146228, 4960200.28233073, 3240927.42492806,\n",
       "       6378863.38619281, 4563522.11377175, 4351542.79980399,\n",
       "       5754743.03932768, 5845973.28364433, 4535763.4864768 ,\n",
       "       3258953.59205213, 2042056.87236036, 5475770.15634234,\n",
       "       3880653.27259043, 4520317.33911101, 5575148.85265756,\n",
       "       5497320.44821592, 5007961.55804766, 6849809.89763094,\n",
       "       5115929.09661818, 5083649.13534293, 3883564.52968673,\n",
       "       2862016.71299185, 6055805.66058665, 3304128.90425932,\n",
       "       3867309.95709986, 3037987.44452324, 4985514.55830895,\n",
       "       4400756.06963947, 3135687.92742389, 4222422.96672119,\n",
       "       4321607.81500155, 3532864.57078701, 2791812.64752286,\n",
       "       5237881.300666  , 4718234.08386654, 2891557.22905033,\n",
       "       4880802.13015663, 5064880.04658778, 3814152.29526344,\n",
       "       7336721.29382856, 5928678.01579031, 4295112.9565394 ,\n",
       "       2850933.98171102, 6841706.06397519, 3916124.24544149,\n",
       "       4533029.95256621, 5510365.89350336, 3315782.31073739,\n",
       "       7752323.71685971, 3675141.78094538, 5186141.1937507 ,\n",
       "       4865444.25046235, 3704955.04514868, 2789913.54126268,\n",
       "       6628930.95744863, 2670423.62439943, 4990672.97025224,\n",
       "       3439047.97536562, 3481024.19166684, 3257181.99751493,\n",
       "       4156664.24597131, 5865048.25455645, 3705236.82427589])"
      ]
     },
     "execution_count": 34,
     "metadata": {},
     "output_type": "execute_result"
    }
   ],
   "source": [
    "#predict hp value using lasso regression model\n",
    "model.predict(x_test)"
   ]
  },
  {
   "cell_type": "code",
   "execution_count": 35,
   "id": "3c60a5fa",
   "metadata": {},
   "outputs": [
    {
     "data": {
      "text/plain": [
       "0.657661771745403"
      ]
     },
     "execution_count": 35,
     "metadata": {},
     "output_type": "execute_result"
    }
   ],
   "source": [
    "model.score(x_train,y_train)"
   ]
  },
  {
   "cell_type": "code",
   "execution_count": 36,
   "id": "dd2763ae",
   "metadata": {},
   "outputs": [],
   "source": [
    "y_pred = model.predict(x_test)"
   ]
  },
  {
   "cell_type": "code",
   "execution_count": 37,
   "id": "5ec4978b",
   "metadata": {},
   "outputs": [
    {
     "name": "stdout",
     "output_type": "stream",
     "text": [
      "R squared error :  65.66944562149418\n",
      "Mean Absolute Error :  712081.670437838\n"
     ]
    }
   ],
   "source": [
    "from sklearn import metrics\n",
    "\n",
    "# R squared error\n",
    "score_1 = metrics.r2_score(y_test, y_pred)\n",
    "\n",
    "# Mean Absolute Error\n",
    "score_2 = metrics.mean_absolute_error(y_test, y_pred)\n",
    "\n",
    "print(\"R squared error : \", score_1*100)\n",
    "print('Mean Absolute Error : ', score_2)"
   ]
  },
  {
   "cell_type": "code",
   "execution_count": 38,
   "id": "34565822",
   "metadata": {},
   "outputs": [
    {
     "data": {
      "text/html": [
       "<style>#sk-container-id-2 {color: black;background-color: white;}#sk-container-id-2 pre{padding: 0;}#sk-container-id-2 div.sk-toggleable {background-color: white;}#sk-container-id-2 label.sk-toggleable__label {cursor: pointer;display: block;width: 100%;margin-bottom: 0;padding: 0.3em;box-sizing: border-box;text-align: center;}#sk-container-id-2 label.sk-toggleable__label-arrow:before {content: \"▸\";float: left;margin-right: 0.25em;color: #696969;}#sk-container-id-2 label.sk-toggleable__label-arrow:hover:before {color: black;}#sk-container-id-2 div.sk-estimator:hover label.sk-toggleable__label-arrow:before {color: black;}#sk-container-id-2 div.sk-toggleable__content {max-height: 0;max-width: 0;overflow: hidden;text-align: left;background-color: #f0f8ff;}#sk-container-id-2 div.sk-toggleable__content pre {margin: 0.2em;color: black;border-radius: 0.25em;background-color: #f0f8ff;}#sk-container-id-2 input.sk-toggleable__control:checked~div.sk-toggleable__content {max-height: 200px;max-width: 100%;overflow: auto;}#sk-container-id-2 input.sk-toggleable__control:checked~label.sk-toggleable__label-arrow:before {content: \"▾\";}#sk-container-id-2 div.sk-estimator input.sk-toggleable__control:checked~label.sk-toggleable__label {background-color: #d4ebff;}#sk-container-id-2 div.sk-label input.sk-toggleable__control:checked~label.sk-toggleable__label {background-color: #d4ebff;}#sk-container-id-2 input.sk-hidden--visually {border: 0;clip: rect(1px 1px 1px 1px);clip: rect(1px, 1px, 1px, 1px);height: 1px;margin: -1px;overflow: hidden;padding: 0;position: absolute;width: 1px;}#sk-container-id-2 div.sk-estimator {font-family: monospace;background-color: #f0f8ff;border: 1px dotted black;border-radius: 0.25em;box-sizing: border-box;margin-bottom: 0.5em;}#sk-container-id-2 div.sk-estimator:hover {background-color: #d4ebff;}#sk-container-id-2 div.sk-parallel-item::after {content: \"\";width: 100%;border-bottom: 1px solid gray;flex-grow: 1;}#sk-container-id-2 div.sk-label:hover label.sk-toggleable__label {background-color: #d4ebff;}#sk-container-id-2 div.sk-serial::before {content: \"\";position: absolute;border-left: 1px solid gray;box-sizing: border-box;top: 0;bottom: 0;left: 50%;z-index: 0;}#sk-container-id-2 div.sk-serial {display: flex;flex-direction: column;align-items: center;background-color: white;padding-right: 0.2em;padding-left: 0.2em;position: relative;}#sk-container-id-2 div.sk-item {position: relative;z-index: 1;}#sk-container-id-2 div.sk-parallel {display: flex;align-items: stretch;justify-content: center;background-color: white;position: relative;}#sk-container-id-2 div.sk-item::before, #sk-container-id-2 div.sk-parallel-item::before {content: \"\";position: absolute;border-left: 1px solid gray;box-sizing: border-box;top: 0;bottom: 0;left: 50%;z-index: -1;}#sk-container-id-2 div.sk-parallel-item {display: flex;flex-direction: column;z-index: 1;position: relative;background-color: white;}#sk-container-id-2 div.sk-parallel-item:first-child::after {align-self: flex-end;width: 50%;}#sk-container-id-2 div.sk-parallel-item:last-child::after {align-self: flex-start;width: 50%;}#sk-container-id-2 div.sk-parallel-item:only-child::after {width: 0;}#sk-container-id-2 div.sk-dashed-wrapped {border: 1px dashed gray;margin: 0 0.4em 0.5em 0.4em;box-sizing: border-box;padding-bottom: 0.4em;background-color: white;}#sk-container-id-2 div.sk-label label {font-family: monospace;font-weight: bold;display: inline-block;line-height: 1.2em;}#sk-container-id-2 div.sk-label-container {text-align: center;}#sk-container-id-2 div.sk-container {/* jupyter's `normalize.less` sets `[hidden] { display: none; }` but bootstrap.min.css set `[hidden] { display: none !important; }` so we also need the `!important` here to be able to override the default hidden behavior on the sphinx rendered scikit-learn.org. See: https://github.com/scikit-learn/scikit-learn/issues/21755 */display: inline-block !important;position: relative;}#sk-container-id-2 div.sk-text-repr-fallback {display: none;}</style><div id=\"sk-container-id-2\" class=\"sk-top-container\"><div class=\"sk-text-repr-fallback\"><pre>GridSearchCV(cv=KFold(n_splits=5, random_state=42, shuffle=True),\n",
       "             estimator=Lasso(),\n",
       "             param_grid={&#x27;alpha&#x27;: [0.001, 0.01, 1.0, 5.0, 10.0]},\n",
       "             return_train_score=True, scoring=&#x27;r2&#x27;)</pre><b>In a Jupyter environment, please rerun this cell to show the HTML representation or trust the notebook. <br />On GitHub, the HTML representation is unable to render, please try loading this page with nbviewer.org.</b></div><div class=\"sk-container\" hidden><div class=\"sk-item sk-dashed-wrapped\"><div class=\"sk-label-container\"><div class=\"sk-label sk-toggleable\"><input class=\"sk-toggleable__control sk-hidden--visually\" id=\"sk-estimator-id-2\" type=\"checkbox\" ><label for=\"sk-estimator-id-2\" class=\"sk-toggleable__label sk-toggleable__label-arrow\">GridSearchCV</label><div class=\"sk-toggleable__content\"><pre>GridSearchCV(cv=KFold(n_splits=5, random_state=42, shuffle=True),\n",
       "             estimator=Lasso(),\n",
       "             param_grid={&#x27;alpha&#x27;: [0.001, 0.01, 1.0, 5.0, 10.0]},\n",
       "             return_train_score=True, scoring=&#x27;r2&#x27;)</pre></div></div></div><div class=\"sk-parallel\"><div class=\"sk-parallel-item\"><div class=\"sk-item\"><div class=\"sk-label-container\"><div class=\"sk-label sk-toggleable\"><input class=\"sk-toggleable__control sk-hidden--visually\" id=\"sk-estimator-id-3\" type=\"checkbox\" ><label for=\"sk-estimator-id-3\" class=\"sk-toggleable__label sk-toggleable__label-arrow\">estimator: Lasso</label><div class=\"sk-toggleable__content\"><pre>Lasso()</pre></div></div></div><div class=\"sk-serial\"><div class=\"sk-item\"><div class=\"sk-estimator sk-toggleable\"><input class=\"sk-toggleable__control sk-hidden--visually\" id=\"sk-estimator-id-4\" type=\"checkbox\" ><label for=\"sk-estimator-id-4\" class=\"sk-toggleable__label sk-toggleable__label-arrow\">Lasso</label><div class=\"sk-toggleable__content\"><pre>Lasso()</pre></div></div></div></div></div></div></div></div></div></div>"
      ],
      "text/plain": [
       "GridSearchCV(cv=KFold(n_splits=5, random_state=42, shuffle=True),\n",
       "             estimator=Lasso(),\n",
       "             param_grid={'alpha': [0.001, 0.01, 1.0, 5.0, 10.0]},\n",
       "             return_train_score=True, scoring='r2')"
      ]
     },
     "execution_count": 38,
     "metadata": {},
     "output_type": "execute_result"
    }
   ],
   "source": [
    "#gridsearchcv\n",
    "from sklearn.model_selection import GridSearchCV,KFold,cross_val_score\n",
    "folds=KFold(n_splits=5,shuffle=True,random_state=42)\n",
    "params = {'alpha':[0.001,0.01,1.0,5.0,10.0]}\n",
    "\n",
    "model = Lasso()\n",
    "\n",
    "model_cv = GridSearchCV(estimator=model,param_grid=params,scoring='r2',cv=folds,return_train_score=True,verbose=0)\n",
    "model_cv.fit(x_train,y_train)"
   ]
  },
  {
   "cell_type": "code",
   "execution_count": 39,
   "id": "50bae7cf",
   "metadata": {},
   "outputs": [
    {
     "data": {
      "text/plain": [
       "{'alpha': 10.0}"
      ]
     },
     "execution_count": 39,
     "metadata": {},
     "output_type": "execute_result"
    }
   ],
   "source": [
    "model_cv.best_params_"
   ]
  },
  {
   "cell_type": "code",
   "execution_count": 40,
   "id": "79ae2a97",
   "metadata": {},
   "outputs": [
    {
     "data": {
      "text/plain": [
       "0.657661771496161"
      ]
     },
     "execution_count": 40,
     "metadata": {},
     "output_type": "execute_result"
    }
   ],
   "source": [
    "model_cv.score(x_train,y_train)"
   ]
  },
  {
   "cell_type": "code",
   "execution_count": 41,
   "id": "f1e21dea",
   "metadata": {},
   "outputs": [],
   "source": [
    "y_pred_grid = model_cv.predict(x_test)"
   ]
  },
  {
   "cell_type": "code",
   "execution_count": 42,
   "id": "3f5a7705",
   "metadata": {},
   "outputs": [
    {
     "name": "stdout",
     "output_type": "stream",
     "text": [
      "R squared error for grid :  65.66958343457405\n",
      "Mean Absolute Error for grid:  712079.6632740885\n"
     ]
    }
   ],
   "source": [
    "from sklearn import metrics\n",
    "\n",
    "# R squared error\n",
    "score_3 = metrics.r2_score(y_test, y_pred_grid)\n",
    "\n",
    "# Mean Absolute Error\n",
    "score_4 = metrics.mean_absolute_error(y_test, y_pred_grid)\n",
    "\n",
    "print(\"R squared error for grid : \", score_3*100)\n",
    "print('Mean Absolute Error for grid: ', score_4)"
   ]
  },
  {
   "cell_type": "code",
   "execution_count": 43,
   "id": "6d00f26b",
   "metadata": {},
   "outputs": [
    {
     "data": {
      "text/plain": [
       "array([0.58031731, 0.68436486, 0.69511975, 0.51057898, 0.57312248,\n",
       "       0.74203178, 0.60933959, 0.55921644, 0.5913807 , 0.60174699])"
      ]
     },
     "execution_count": 43,
     "metadata": {},
     "output_type": "execute_result"
    }
   ],
   "source": [
    "cross_val_score(model_cv, x_train, y_train, cv=10)"
   ]
  }
 ],
 "metadata": {
  "kernelspec": {
   "display_name": "Python 3 (ipykernel)",
   "language": "python",
   "name": "python3"
  },
  "language_info": {
   "codemirror_mode": {
    "name": "ipython",
    "version": 3
   },
   "file_extension": ".py",
   "mimetype": "text/x-python",
   "name": "python",
   "nbconvert_exporter": "python",
   "pygments_lexer": "ipython3",
   "version": "3.9.7"
  },
  "papermill": {
   "default_parameters": {},
   "duration": 12.0735,
   "end_time": "2021-10-19T06:19:59.881426",
   "environment_variables": {},
   "exception": null,
   "input_path": "__notebook__.ipynb",
   "output_path": "__notebook__.ipynb",
   "parameters": {},
   "start_time": "2021-10-19T06:19:47.807926",
   "version": "2.3.3"
  }
 },
 "nbformat": 4,
 "nbformat_minor": 5
}
