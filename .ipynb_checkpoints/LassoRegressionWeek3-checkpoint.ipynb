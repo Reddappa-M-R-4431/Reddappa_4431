{
 "cells": [
  {
   "cell_type": "code",
   "execution_count": 1,
   "id": "e4fe0782",
   "metadata": {},
   "outputs": [],
   "source": [
    "import numpy as np"
   ]
  },
  {
   "cell_type": "code",
   "execution_count": 2,
   "id": "40ab8748",
   "metadata": {},
   "outputs": [],
   "source": [
    "# creating a class for Lasso Regression\n",
    "\n",
    "class Lasso_Regression():\n",
    "\n",
    "  #initiating the hyperparameters\n",
    "  def __init__(self, learning_rate, no_of_iterations, lambda_parameter):\n",
    "\n",
    "    self.learning_rate = learning_rate\n",
    "    self.no_of_iterations = no_of_iterations\n",
    "    self.lambda_parameter = lambda_parameter\n",
    "\n",
    "\n",
    "  # fitting the dataset to the Lasso Regression model\n",
    "  def fit(self, X, Y):\n",
    "\n",
    "    # m --> number of Data points --> number of rows\n",
    "    # n --> number of input features --> number of columns\n",
    "    self.m, self.n = X.shape\n",
    "\n",
    "    self.w = np.zeros(self.n)\n",
    "\n",
    "    self.b = 0\n",
    "\n",
    "    self.X = X\n",
    "\n",
    "    self.Y = Y\n",
    "\n",
    "    # implementing Gradient Descent algorithm for Optimization\n",
    "\n",
    "    for i in range(self.no_of_iterations):     # missed \"self\"\n",
    "        self.upadte_weights()\n",
    "\n",
    "\n",
    "  # function for updating the weight & bias value\n",
    "  def upadte_weights(self):\n",
    "\n",
    "    # linear equation of the model\n",
    "    Y_prediction = self.predict(self.X)\n",
    "\n",
    "    # gradients (dw, db)\n",
    "\n",
    "    # gradient for weight\n",
    "    dw = np.zeros(self.n)\n",
    "\n",
    "    for i in range(self.n):\n",
    "\n",
    "        if self.w[i]>0:\n",
    "\n",
    "            dw[i] = (-(2*(self.X[:,i]).dot(self.Y - Y_prediction)) + self.lambda_parameter) / self.m \n",
    "\n",
    "        else :\n",
    "\n",
    "            dw[i] = (-(2*(self.X[:,i]).dot(self.Y - Y_prediction)) - self.lambda_parameter) / self.m\n",
    "\n",
    "\n",
    "    # gradient for bias\n",
    "    db = - 2 * np.sum(self.Y - Y_prediction) / self.m\n",
    "\n",
    "\n",
    "    # updating the weights & bias\n",
    "\n",
    "    self.w = self.w - self.learning_rate*dw\n",
    "    self.b = self.b - self.learning_rate*db\n",
    "\n",
    "    \n",
    "\n",
    "\n",
    "  # Predicting the Target variable\n",
    "  def predict(self,X):\n",
    "\n",
    "    return X.dot(self.w) + self.b\n"
   ]
  },
  {
   "cell_type": "code",
   "execution_count": 3,
   "id": "dd552b3f",
   "metadata": {
    "_cell_guid": "b1076dfc-b9ad-4769-8c92-a6c4dae69d19",
    "_uuid": "8f2839f25d086af736a60e9eeb907d3b93b6e0e5",
    "execution": {
     "iopub.execute_input": "2021-10-19T06:19:56.312800Z",
     "iopub.status.busy": "2021-10-19T06:19:56.312203Z",
     "iopub.status.idle": "2021-10-19T06:19:56.355651Z",
     "shell.execute_reply": "2021-10-19T06:19:56.355017Z",
     "shell.execute_reply.started": "2021-10-19T06:19:20.608631Z"
    },
    "papermill": {
     "duration": 0.06555,
     "end_time": "2021-10-19T06:19:56.355835",
     "exception": false,
     "start_time": "2021-10-19T06:19:56.290285",
     "status": "completed"
    },
    "tags": []
   },
   "outputs": [
    {
     "data": {
      "text/html": [
       "<div>\n",
       "<style scoped>\n",
       "    .dataframe tbody tr th:only-of-type {\n",
       "        vertical-align: middle;\n",
       "    }\n",
       "\n",
       "    .dataframe tbody tr th {\n",
       "        vertical-align: top;\n",
       "    }\n",
       "\n",
       "    .dataframe thead th {\n",
       "        text-align: right;\n",
       "    }\n",
       "</style>\n",
       "<table border=\"1\" class=\"dataframe\">\n",
       "  <thead>\n",
       "    <tr style=\"text-align: right;\">\n",
       "      <th></th>\n",
       "      <th>price</th>\n",
       "      <th>area</th>\n",
       "      <th>bedrooms</th>\n",
       "      <th>bathrooms</th>\n",
       "      <th>stories</th>\n",
       "      <th>mainroad</th>\n",
       "      <th>guestroom</th>\n",
       "      <th>basement</th>\n",
       "      <th>hotwaterheating</th>\n",
       "      <th>airconditioning</th>\n",
       "      <th>parking</th>\n",
       "      <th>prefarea</th>\n",
       "      <th>furnishingstatus</th>\n",
       "    </tr>\n",
       "  </thead>\n",
       "  <tbody>\n",
       "    <tr>\n",
       "      <th>0</th>\n",
       "      <td>13300000</td>\n",
       "      <td>7420</td>\n",
       "      <td>4</td>\n",
       "      <td>2</td>\n",
       "      <td>3</td>\n",
       "      <td>yes</td>\n",
       "      <td>no</td>\n",
       "      <td>no</td>\n",
       "      <td>no</td>\n",
       "      <td>yes</td>\n",
       "      <td>2</td>\n",
       "      <td>yes</td>\n",
       "      <td>furnished</td>\n",
       "    </tr>\n",
       "    <tr>\n",
       "      <th>1</th>\n",
       "      <td>12250000</td>\n",
       "      <td>8960</td>\n",
       "      <td>4</td>\n",
       "      <td>4</td>\n",
       "      <td>4</td>\n",
       "      <td>yes</td>\n",
       "      <td>no</td>\n",
       "      <td>no</td>\n",
       "      <td>no</td>\n",
       "      <td>yes</td>\n",
       "      <td>3</td>\n",
       "      <td>no</td>\n",
       "      <td>furnished</td>\n",
       "    </tr>\n",
       "    <tr>\n",
       "      <th>2</th>\n",
       "      <td>12250000</td>\n",
       "      <td>9960</td>\n",
       "      <td>3</td>\n",
       "      <td>2</td>\n",
       "      <td>2</td>\n",
       "      <td>yes</td>\n",
       "      <td>no</td>\n",
       "      <td>yes</td>\n",
       "      <td>no</td>\n",
       "      <td>no</td>\n",
       "      <td>2</td>\n",
       "      <td>yes</td>\n",
       "      <td>semi-furnished</td>\n",
       "    </tr>\n",
       "    <tr>\n",
       "      <th>3</th>\n",
       "      <td>12215000</td>\n",
       "      <td>7500</td>\n",
       "      <td>4</td>\n",
       "      <td>2</td>\n",
       "      <td>2</td>\n",
       "      <td>yes</td>\n",
       "      <td>no</td>\n",
       "      <td>yes</td>\n",
       "      <td>no</td>\n",
       "      <td>yes</td>\n",
       "      <td>3</td>\n",
       "      <td>yes</td>\n",
       "      <td>furnished</td>\n",
       "    </tr>\n",
       "    <tr>\n",
       "      <th>4</th>\n",
       "      <td>11410000</td>\n",
       "      <td>7420</td>\n",
       "      <td>4</td>\n",
       "      <td>1</td>\n",
       "      <td>2</td>\n",
       "      <td>yes</td>\n",
       "      <td>yes</td>\n",
       "      <td>yes</td>\n",
       "      <td>no</td>\n",
       "      <td>yes</td>\n",
       "      <td>2</td>\n",
       "      <td>no</td>\n",
       "      <td>furnished</td>\n",
       "    </tr>\n",
       "  </tbody>\n",
       "</table>\n",
       "</div>"
      ],
      "text/plain": [
       "      price  area  bedrooms  bathrooms  stories mainroad guestroom basement  \\\n",
       "0  13300000  7420         4          2        3      yes        no       no   \n",
       "1  12250000  8960         4          4        4      yes        no       no   \n",
       "2  12250000  9960         3          2        2      yes        no      yes   \n",
       "3  12215000  7500         4          2        2      yes        no      yes   \n",
       "4  11410000  7420         4          1        2      yes       yes      yes   \n",
       "\n",
       "  hotwaterheating airconditioning  parking prefarea furnishingstatus  \n",
       "0              no             yes        2      yes        furnished  \n",
       "1              no             yes        3       no        furnished  \n",
       "2              no              no        2      yes   semi-furnished  \n",
       "3              no             yes        3      yes        furnished  \n",
       "4              no             yes        2       no        furnished  "
      ]
     },
     "execution_count": 3,
     "metadata": {},
     "output_type": "execute_result"
    }
   ],
   "source": [
    "#importing  the important libraries\n",
    "import pandas as pd\n",
    "import numpy as np\n",
    "#reading the input data \n",
    "df=pd.read_csv('Housing.csv')\n",
    "#check the data\n",
    "df.head() "
   ]
  },
  {
   "cell_type": "code",
   "execution_count": 4,
   "id": "5d5de20e",
   "metadata": {
    "execution": {
     "iopub.execute_input": "2021-10-19T06:19:56.383036Z",
     "iopub.status.busy": "2021-10-19T06:19:56.382407Z",
     "iopub.status.idle": "2021-10-19T06:19:56.421684Z",
     "shell.execute_reply": "2021-10-19T06:19:56.422170Z",
     "shell.execute_reply.started": "2021-10-19T06:19:20.638514Z"
    },
    "papermill": {
     "duration": 0.054065,
     "end_time": "2021-10-19T06:19:56.422336",
     "exception": false,
     "start_time": "2021-10-19T06:19:56.368271",
     "status": "completed"
    },
    "tags": []
   },
   "outputs": [
    {
     "data": {
      "text/html": [
       "<div>\n",
       "<style scoped>\n",
       "    .dataframe tbody tr th:only-of-type {\n",
       "        vertical-align: middle;\n",
       "    }\n",
       "\n",
       "    .dataframe tbody tr th {\n",
       "        vertical-align: top;\n",
       "    }\n",
       "\n",
       "    .dataframe thead th {\n",
       "        text-align: right;\n",
       "    }\n",
       "</style>\n",
       "<table border=\"1\" class=\"dataframe\">\n",
       "  <thead>\n",
       "    <tr style=\"text-align: right;\">\n",
       "      <th></th>\n",
       "      <th>price</th>\n",
       "      <th>area</th>\n",
       "      <th>bedrooms</th>\n",
       "      <th>bathrooms</th>\n",
       "      <th>stories</th>\n",
       "      <th>parking</th>\n",
       "    </tr>\n",
       "  </thead>\n",
       "  <tbody>\n",
       "    <tr>\n",
       "      <th>count</th>\n",
       "      <td>5.450000e+02</td>\n",
       "      <td>545.000000</td>\n",
       "      <td>545.000000</td>\n",
       "      <td>545.000000</td>\n",
       "      <td>545.000000</td>\n",
       "      <td>545.000000</td>\n",
       "    </tr>\n",
       "    <tr>\n",
       "      <th>mean</th>\n",
       "      <td>4.766729e+06</td>\n",
       "      <td>5150.541284</td>\n",
       "      <td>2.965138</td>\n",
       "      <td>1.286239</td>\n",
       "      <td>1.805505</td>\n",
       "      <td>0.693578</td>\n",
       "    </tr>\n",
       "    <tr>\n",
       "      <th>std</th>\n",
       "      <td>1.870440e+06</td>\n",
       "      <td>2170.141023</td>\n",
       "      <td>0.738064</td>\n",
       "      <td>0.502470</td>\n",
       "      <td>0.867492</td>\n",
       "      <td>0.861586</td>\n",
       "    </tr>\n",
       "    <tr>\n",
       "      <th>min</th>\n",
       "      <td>1.750000e+06</td>\n",
       "      <td>1650.000000</td>\n",
       "      <td>1.000000</td>\n",
       "      <td>1.000000</td>\n",
       "      <td>1.000000</td>\n",
       "      <td>0.000000</td>\n",
       "    </tr>\n",
       "    <tr>\n",
       "      <th>25%</th>\n",
       "      <td>3.430000e+06</td>\n",
       "      <td>3600.000000</td>\n",
       "      <td>2.000000</td>\n",
       "      <td>1.000000</td>\n",
       "      <td>1.000000</td>\n",
       "      <td>0.000000</td>\n",
       "    </tr>\n",
       "    <tr>\n",
       "      <th>50%</th>\n",
       "      <td>4.340000e+06</td>\n",
       "      <td>4600.000000</td>\n",
       "      <td>3.000000</td>\n",
       "      <td>1.000000</td>\n",
       "      <td>2.000000</td>\n",
       "      <td>0.000000</td>\n",
       "    </tr>\n",
       "    <tr>\n",
       "      <th>75%</th>\n",
       "      <td>5.740000e+06</td>\n",
       "      <td>6360.000000</td>\n",
       "      <td>3.000000</td>\n",
       "      <td>2.000000</td>\n",
       "      <td>2.000000</td>\n",
       "      <td>1.000000</td>\n",
       "    </tr>\n",
       "    <tr>\n",
       "      <th>max</th>\n",
       "      <td>1.330000e+07</td>\n",
       "      <td>16200.000000</td>\n",
       "      <td>6.000000</td>\n",
       "      <td>4.000000</td>\n",
       "      <td>4.000000</td>\n",
       "      <td>3.000000</td>\n",
       "    </tr>\n",
       "  </tbody>\n",
       "</table>\n",
       "</div>"
      ],
      "text/plain": [
       "              price          area    bedrooms   bathrooms     stories  \\\n",
       "count  5.450000e+02    545.000000  545.000000  545.000000  545.000000   \n",
       "mean   4.766729e+06   5150.541284    2.965138    1.286239    1.805505   \n",
       "std    1.870440e+06   2170.141023    0.738064    0.502470    0.867492   \n",
       "min    1.750000e+06   1650.000000    1.000000    1.000000    1.000000   \n",
       "25%    3.430000e+06   3600.000000    2.000000    1.000000    1.000000   \n",
       "50%    4.340000e+06   4600.000000    3.000000    1.000000    2.000000   \n",
       "75%    5.740000e+06   6360.000000    3.000000    2.000000    2.000000   \n",
       "max    1.330000e+07  16200.000000    6.000000    4.000000    4.000000   \n",
       "\n",
       "          parking  \n",
       "count  545.000000  \n",
       "mean     0.693578  \n",
       "std      0.861586  \n",
       "min      0.000000  \n",
       "25%      0.000000  \n",
       "50%      0.000000  \n",
       "75%      1.000000  \n",
       "max      3.000000  "
      ]
     },
     "execution_count": 4,
     "metadata": {},
     "output_type": "execute_result"
    }
   ],
   "source": [
    "#describe the data\n",
    "df.describe()"
   ]
  },
  {
   "cell_type": "code",
   "execution_count": 5,
   "id": "5aaa3d1a",
   "metadata": {
    "execution": {
     "iopub.execute_input": "2021-10-19T06:19:57.461237Z",
     "iopub.status.busy": "2021-10-19T06:19:57.459274Z",
     "iopub.status.idle": "2021-10-19T06:19:57.471153Z",
     "shell.execute_reply": "2021-10-19T06:19:57.471630Z",
     "shell.execute_reply.started": "2021-10-19T06:19:21.577704Z"
    },
    "papermill": {
     "duration": 0.03082,
     "end_time": "2021-10-19T06:19:57.471797",
     "exception": false,
     "start_time": "2021-10-19T06:19:57.440977",
     "status": "completed"
    },
    "tags": []
   },
   "outputs": [
    {
     "data": {
      "text/html": [
       "<div>\n",
       "<style scoped>\n",
       "    .dataframe tbody tr th:only-of-type {\n",
       "        vertical-align: middle;\n",
       "    }\n",
       "\n",
       "    .dataframe tbody tr th {\n",
       "        vertical-align: top;\n",
       "    }\n",
       "\n",
       "    .dataframe thead th {\n",
       "        text-align: right;\n",
       "    }\n",
       "</style>\n",
       "<table border=\"1\" class=\"dataframe\">\n",
       "  <thead>\n",
       "    <tr style=\"text-align: right;\">\n",
       "      <th></th>\n",
       "      <th>price</th>\n",
       "      <th>area</th>\n",
       "      <th>bedrooms</th>\n",
       "      <th>bathrooms</th>\n",
       "      <th>stories</th>\n",
       "      <th>parking</th>\n",
       "    </tr>\n",
       "  </thead>\n",
       "  <tbody>\n",
       "    <tr>\n",
       "      <th>price</th>\n",
       "      <td>1.000000</td>\n",
       "      <td>0.535997</td>\n",
       "      <td>0.366494</td>\n",
       "      <td>0.517545</td>\n",
       "      <td>0.420712</td>\n",
       "      <td>0.384394</td>\n",
       "    </tr>\n",
       "    <tr>\n",
       "      <th>area</th>\n",
       "      <td>0.535997</td>\n",
       "      <td>1.000000</td>\n",
       "      <td>0.151858</td>\n",
       "      <td>0.193820</td>\n",
       "      <td>0.083996</td>\n",
       "      <td>0.352980</td>\n",
       "    </tr>\n",
       "    <tr>\n",
       "      <th>bedrooms</th>\n",
       "      <td>0.366494</td>\n",
       "      <td>0.151858</td>\n",
       "      <td>1.000000</td>\n",
       "      <td>0.373930</td>\n",
       "      <td>0.408564</td>\n",
       "      <td>0.139270</td>\n",
       "    </tr>\n",
       "    <tr>\n",
       "      <th>bathrooms</th>\n",
       "      <td>0.517545</td>\n",
       "      <td>0.193820</td>\n",
       "      <td>0.373930</td>\n",
       "      <td>1.000000</td>\n",
       "      <td>0.326165</td>\n",
       "      <td>0.177496</td>\n",
       "    </tr>\n",
       "    <tr>\n",
       "      <th>stories</th>\n",
       "      <td>0.420712</td>\n",
       "      <td>0.083996</td>\n",
       "      <td>0.408564</td>\n",
       "      <td>0.326165</td>\n",
       "      <td>1.000000</td>\n",
       "      <td>0.045547</td>\n",
       "    </tr>\n",
       "    <tr>\n",
       "      <th>parking</th>\n",
       "      <td>0.384394</td>\n",
       "      <td>0.352980</td>\n",
       "      <td>0.139270</td>\n",
       "      <td>0.177496</td>\n",
       "      <td>0.045547</td>\n",
       "      <td>1.000000</td>\n",
       "    </tr>\n",
       "  </tbody>\n",
       "</table>\n",
       "</div>"
      ],
      "text/plain": [
       "              price      area  bedrooms  bathrooms   stories   parking\n",
       "price      1.000000  0.535997  0.366494   0.517545  0.420712  0.384394\n",
       "area       0.535997  1.000000  0.151858   0.193820  0.083996  0.352980\n",
       "bedrooms   0.366494  0.151858  1.000000   0.373930  0.408564  0.139270\n",
       "bathrooms  0.517545  0.193820  0.373930   1.000000  0.326165  0.177496\n",
       "stories    0.420712  0.083996  0.408564   0.326165  1.000000  0.045547\n",
       "parking    0.384394  0.352980  0.139270   0.177496  0.045547  1.000000"
      ]
     },
     "execution_count": 5,
     "metadata": {},
     "output_type": "execute_result"
    }
   ],
   "source": [
    "df.corr()"
   ]
  },
  {
   "cell_type": "code",
   "execution_count": 6,
   "id": "9139baaf",
   "metadata": {
    "execution": {
     "iopub.execute_input": "2021-10-19T06:19:58.717084Z",
     "iopub.status.busy": "2021-10-19T06:19:58.716499Z",
     "iopub.status.idle": "2021-10-19T06:19:58.723367Z",
     "shell.execute_reply": "2021-10-19T06:19:58.723851Z",
     "shell.execute_reply.started": "2021-10-19T06:19:21.613439Z"
    },
    "papermill": {
     "duration": 0.024938,
     "end_time": "2021-10-19T06:19:58.724036",
     "exception": false,
     "start_time": "2021-10-19T06:19:58.699098",
     "status": "completed"
    },
    "tags": []
   },
   "outputs": [],
   "source": [
    "# Select ratio\n",
    "ratio = 0.75\n",
    " \n",
    "total_rows = df.shape[0]\n",
    "train_size = int(total_rows*ratio)\n",
    " \n",
    "# Split data into test and train\n",
    "train = df[0:train_size]\n",
    "test = df[train_size:]"
   ]
  },
  {
   "cell_type": "code",
   "execution_count": 7,
   "id": "420afc0d",
   "metadata": {},
   "outputs": [],
   "source": [
    "x_train = train.drop(['price','mainroad',\n",
    "          'guestroom',\n",
    "          'basement',\n",
    "          'hotwaterheating',\n",
    "          'airconditioning',\n",
    "          'prefarea',\n",
    "          'furnishingstatus'], axis = 1)"
   ]
  },
  {
   "cell_type": "code",
   "execution_count": 8,
   "id": "2f3a5c76",
   "metadata": {},
   "outputs": [],
   "source": [
    "x_test = test.drop(['price','mainroad',\n",
    "          'guestroom',\n",
    "          'basement',\n",
    "          'hotwaterheating',\n",
    "          'airconditioning',\n",
    "          'prefarea',\n",
    "          'furnishingstatus'], axis = 1)"
   ]
  },
  {
   "cell_type": "code",
   "execution_count": 9,
   "id": "dc723fad",
   "metadata": {},
   "outputs": [],
   "source": [
    "y_train = train['price']"
   ]
  },
  {
   "cell_type": "code",
   "execution_count": 10,
   "id": "39dce283",
   "metadata": {},
   "outputs": [],
   "source": [
    "y_test = test['price']"
   ]
  },
  {
   "cell_type": "code",
   "execution_count": 11,
   "id": "0fec1142",
   "metadata": {},
   "outputs": [
    {
     "data": {
      "text/plain": [
       "408    3430000\n",
       "409    3430000\n",
       "410    3430000\n",
       "411    3430000\n",
       "412    3430000\n",
       "        ...   \n",
       "540    1820000\n",
       "541    1767150\n",
       "542    1750000\n",
       "543    1750000\n",
       "544    1750000\n",
       "Name: price, Length: 137, dtype: int64"
      ]
     },
     "execution_count": 11,
     "metadata": {},
     "output_type": "execute_result"
    }
   ],
   "source": [
    "y_test"
   ]
  },
  {
   "cell_type": "code",
   "execution_count": 12,
   "id": "4a5ff91b",
   "metadata": {
    "execution": {
     "iopub.execute_input": "2021-10-19T06:19:58.756982Z",
     "iopub.status.busy": "2021-10-19T06:19:58.756398Z",
     "iopub.status.idle": "2021-10-19T06:19:58.761340Z",
     "shell.execute_reply": "2021-10-19T06:19:58.761852Z",
     "shell.execute_reply.started": "2021-10-19T06:19:21.629105Z"
    },
    "papermill": {
     "duration": 0.022955,
     "end_time": "2021-10-19T06:19:58.762028",
     "exception": false,
     "start_time": "2021-10-19T06:19:58.739073",
     "status": "completed"
    },
    "tags": []
   },
   "outputs": [
    {
     "data": {
      "text/plain": [
       "((408, 5), (137, 5), (408,), (137,))"
      ]
     },
     "execution_count": 12,
     "metadata": {},
     "output_type": "execute_result"
    }
   ],
   "source": [
    "#lets check the shape of the data\n",
    "x_train.shape , x_test.shape , y_train.shape , y_test.shape"
   ]
  },
  {
   "cell_type": "code",
   "execution_count": 13,
   "id": "f5f2895f",
   "metadata": {
    "execution": {
     "iopub.execute_input": "2021-10-19T06:19:58.796057Z",
     "iopub.status.busy": "2021-10-19T06:19:58.795380Z",
     "iopub.status.idle": "2021-10-19T06:19:58.808584Z",
     "shell.execute_reply": "2021-10-19T06:19:58.809118Z",
     "shell.execute_reply.started": "2021-10-19T06:19:21.639523Z"
    },
    "papermill": {
     "duration": 0.031999,
     "end_time": "2021-10-19T06:19:58.809298",
     "exception": false,
     "start_time": "2021-10-19T06:19:58.777299",
     "status": "completed"
    },
    "tags": []
   },
   "outputs": [
    {
     "data": {
      "text/plain": [
       "(array([[ 0.81689742,  1.29837227,  1.17161428,  1.16732615,  1.32045379],\n",
       "        [ 1.51381332,  1.29837227,  4.87718504,  2.25222152,  2.43818231],\n",
       "        [ 1.96635611, -0.10676271,  1.17161428,  0.08243078,  1.32045379],\n",
       "        [ 0.85310084,  1.29837227,  1.17161428,  0.08243078,  2.43818231],\n",
       "        [ 0.81689742,  1.29837227, -0.6811711 ,  0.08243078,  1.32045379]]),\n",
       " array([[ 0.18338654, -0.88998192, -0.18428854, -0.83814401, -0.52196343],\n",
       "        [-0.46004821, -0.88998192, -0.18428854, -0.83814401,  2.72844519],\n",
       "        [ 0.06496297,  0.51148386, -0.18428854, -0.83814401, -0.52196343],\n",
       "        [-1.28111831,  0.51148386, -0.18428854,  2.86591177, -0.52196343],\n",
       "        [-0.91400524,  0.51148386, -0.18428854,  1.01388388, -0.52196343]]))"
      ]
     },
     "execution_count": 13,
     "metadata": {},
     "output_type": "execute_result"
    }
   ],
   "source": [
    "#Scaling the data with#lets scale the data\n",
    "from sklearn.preprocessing import StandardScaler\n",
    "scaler = StandardScaler()\n",
    "x_train=scaler.fit_transform(x_train)\n",
    "x_test=scaler.fit_transform(x_test)\n",
    "\n",
    "x_train[:5] , x_test[:5]"
   ]
  },
  {
   "cell_type": "code",
   "execution_count": 14,
   "id": "9c20daac",
   "metadata": {},
   "outputs": [],
   "source": [
    "model = Lasso_Regression(learning_rate = 0.02, no_of_iterations=1000,\n",
    "                         lambda_parameter=500)"
   ]
  },
  {
   "cell_type": "code",
   "execution_count": 15,
   "id": "f8b1f86b",
   "metadata": {},
   "outputs": [],
   "source": [
    "model.fit(x_train, y_train)"
   ]
  },
  {
   "cell_type": "code",
   "execution_count": 16,
   "id": "be850d83",
   "metadata": {},
   "outputs": [],
   "source": [
    "test_data_prediction = model.predict(x_test)"
   ]
  },
  {
   "cell_type": "code",
   "execution_count": 17,
   "id": "66a84d79",
   "metadata": {},
   "outputs": [
    {
     "name": "stdout",
     "output_type": "stream",
     "text": [
      "[ 4783428.61981561  5360037.49399015  4863753.73682231  5772582.02555887\n",
      "  5136444.07993823  7076038.85470993  4802187.20575134  6635849.7215009\n",
      "  5634982.94008002  4614601.34639407  6663307.49388883  7243387.32505137\n",
      "  5693910.88474627  5135152.1061105   4652118.51826552  4816857.271983\n",
      "  5366236.75765089  5360037.49399015  4324444.39117015  4918375.5184354\n",
      "  5281594.73705883  6302422.35797516  4079981.64722584  5554423.74378803\n",
      "  5900165.60977126  6174520.66961347  5841430.10860466  4802187.20575134\n",
      "  4918375.5184354   6295159.50436797  5017910.94401221  4750601.09442809\n",
      "  5770147.48204889  5961821.86111024  4645678.67383767  5563574.6528746\n",
      "  5375616.05061876  4374828.24893368  7505382.0887568   4548946.29561902\n",
      "  5786795.32402795  4686238.01748077  5530374.38458851  6073081.40289688\n",
      "  9091943.24578567  4826230.06346905  6022787.26540135  5635200.58342911\n",
      "  4182817.06735541  4465133.78568811  5717960.24394578  4548946.29561902\n",
      "  7185591.20953517  5233634.68227307  4925409.9881613   4356670.78977782\n",
      "  6351524.98244317  4689635.69013698  5361547.11116696  6390706.87104092\n",
      "  4237084.80443755  5064807.40885153  5438704.39575236  5671063.77910647\n",
      "  7203680.42948744  6682735.44580802  6583457.84301233  5168670.4785459\n",
      "  7135297.07203965  5233634.68227307  6080126.61315498  5779526.77501676\n",
      "  6023850.8553478   4173774.57690447  5389684.99007055  7014647.49675294\n",
      "  4333222.55735816  4609911.69991014  5721357.91660199  6595525.2632209\n",
      "  7355938.84066573  5939437.21863702  6431850.09944987  4625044.22930837\n",
      "  5634610.19718145  4915339.84814557  6096529.63531653  6267712.47251225\n",
      "  4783428.61981561  4752476.95302166  4699705.83015271 10113010.90672167\n",
      "  4371340.85600947  4197823.93610399  5018974.53395865  4934098.43408129\n",
      "  4401222.43137517  5788304.94120476  4272257.15306704  4595842.76045834\n",
      "  4971014.47917289  8178568.24160049  4408858.02788092  4549547.42239888\n",
      "  5168670.4785459   5975890.80056204  5319340.29281158  5417822.86897414\n",
      "  4906423.01834428  4793871.50272992  4548946.29561902  6031565.43158936\n",
      "  6518597.8188704   4612256.5231521   5073133.85240515  7619232.0796807\n",
      "  4438270.63859823  4614601.34639407  4398877.6081332   3768589.12069276\n",
      "  4618689.86609814  5774236.00175297  3972720.90487526  5543752.47699243\n",
      "  4314463.97142243  5037961.50377566  5470010.10707725  4962698.77615147\n",
      "  5817645.07366807  4709686.24990043  4618822.02822961  4789181.85624599\n",
      "  5273279.03403741  4183754.9966522   4605222.0534262   4422926.96733272\n",
      "  5717960.24394578]\n"
     ]
    }
   ],
   "source": [
    "print(test_data_prediction)"
   ]
  },
  {
   "cell_type": "code",
   "execution_count": 18,
   "id": "9cb5b730",
   "metadata": {},
   "outputs": [
    {
     "name": "stdout",
     "output_type": "stream",
     "text": [
      "R squared error :  -36.53035988979515\n",
      "Mean Absolute Error :  2555905.373908676\n"
     ]
    }
   ],
   "source": [
    "from sklearn import metrics\n",
    "\n",
    "# R squared error\n",
    "score_1 = metrics.r2_score(y_test, test_data_prediction)\n",
    "\n",
    "# Mean Absolute Error\n",
    "score_2 = metrics.mean_absolute_error(y_test, test_data_prediction)\n",
    "\n",
    "print(\"R squared error : \", score_1)\n",
    "print('Mean Absolute Error : ', score_2)"
   ]
  },
  {
   "cell_type": "code",
   "execution_count": 19,
   "id": "d93cbf88",
   "metadata": {},
   "outputs": [],
   "source": [
    "SSres = np.sum((y_test - test_data_prediction)**2)"
   ]
  },
  {
   "cell_type": "code",
   "execution_count": 20,
   "id": "4ea78b45",
   "metadata": {},
   "outputs": [],
   "source": [
    "mean_y_pred = np.mean(test_data_prediction)"
   ]
  },
  {
   "cell_type": "code",
   "execution_count": 21,
   "id": "20114294",
   "metadata": {},
   "outputs": [],
   "source": [
    "SStot = np.sum((y_test - mean_y_pred)**2)"
   ]
  },
  {
   "cell_type": "code",
   "execution_count": 22,
   "id": "7c34c8ee",
   "metadata": {},
   "outputs": [],
   "source": [
    "r2 = 1 - SSres/SStot"
   ]
  },
  {
   "cell_type": "code",
   "execution_count": 23,
   "id": "7b3dec1a",
   "metadata": {},
   "outputs": [
    {
     "data": {
      "text/plain": [
       "-0.12778678100506569"
      ]
     },
     "execution_count": 23,
     "metadata": {},
     "output_type": "execute_result"
    }
   ],
   "source": [
    "r2"
   ]
  },
  {
   "cell_type": "code",
   "execution_count": null,
   "id": "850a6d46",
   "metadata": {},
   "outputs": [],
   "source": []
  }
 ],
 "metadata": {
  "kernelspec": {
   "display_name": "Python 3 (ipykernel)",
   "language": "python",
   "name": "python3"
  },
  "language_info": {
   "codemirror_mode": {
    "name": "ipython",
    "version": 3
   },
   "file_extension": ".py",
   "mimetype": "text/x-python",
   "name": "python",
   "nbconvert_exporter": "python",
   "pygments_lexer": "ipython3",
   "version": "3.9.7"
  },
  "papermill": {
   "default_parameters": {},
   "duration": 12.0735,
   "end_time": "2021-10-19T06:19:59.881426",
   "environment_variables": {},
   "exception": null,
   "input_path": "__notebook__.ipynb",
   "output_path": "__notebook__.ipynb",
   "parameters": {},
   "start_time": "2021-10-19T06:19:47.807926",
   "version": "2.3.3"
  }
 },
 "nbformat": 4,
 "nbformat_minor": 5
}
